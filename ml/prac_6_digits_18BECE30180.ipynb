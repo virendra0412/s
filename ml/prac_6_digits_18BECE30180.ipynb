{
 "cells": [
  {
   "cell_type": "markdown",
   "id": "proved-penalty",
   "metadata": {},
   "source": [
    "#  importing the libraries"
   ]
  },
  {
   "cell_type": "code",
   "execution_count": 32,
   "id": "damaged-workshop",
   "metadata": {},
   "outputs": [],
   "source": [
    "from sklearn.linear_model import LogisticRegression\n",
    "from sklearn.svm import SVC"
   ]
  },
  {
   "cell_type": "markdown",
   "id": "quantitative-glossary",
   "metadata": {},
   "source": [
    "# importinng the dataset"
   ]
  },
  {
   "cell_type": "code",
   "execution_count": 33,
   "id": "breeding-residence",
   "metadata": {},
   "outputs": [
    {
     "data": {
      "text/plain": [
       "['DESCR', 'data', 'feature_names', 'frame', 'images', 'target', 'target_names']"
      ]
     },
     "execution_count": 33,
     "metadata": {},
     "output_type": "execute_result"
    }
   ],
   "source": [
    "from sklearn.datasets import load_digits\n",
    "digits = load_digits()\n",
    "dir(digits)"
   ]
  },
  {
   "cell_type": "markdown",
   "id": "animal-deficit",
   "metadata": {},
   "source": [
    "# creating the dependent and independent variables "
   ]
  },
  {
   "cell_type": "code",
   "execution_count": 34,
   "id": "ultimate-grill",
   "metadata": {},
   "outputs": [
    {
     "name": "stdout",
     "output_type": "stream",
     "text": [
      "[[ 0.  0.  5. ...  0.  0.  0.]\n",
      " [ 0.  0.  0. ... 10.  0.  0.]\n",
      " [ 0.  0.  0. ... 16.  9.  0.]\n",
      " ...\n",
      " [ 0.  0.  1. ...  6.  0.  0.]\n",
      " [ 0.  0.  2. ... 12.  0.  0.]\n",
      " [ 0.  0. 10. ... 12.  1.  0.]]\n",
      "[0 1 2 ... 8 9 8]\n"
     ]
    }
   ],
   "source": [
    "x = digits.data\n",
    "y = digits.target\n",
    "print(x)\n",
    "print(y)"
   ]
  },
  {
   "cell_type": "markdown",
   "id": "gothic-bikini",
   "metadata": {},
   "source": [
    "# splitting the dataset into testing and training set"
   ]
  },
  {
   "cell_type": "code",
   "execution_count": 35,
   "id": "brief-pharmacology",
   "metadata": {},
   "outputs": [],
   "source": [
    "from sklearn.model_selection import train_test_split\n",
    "x_train,x_test,y_train,y_test = train_test_split(x,y)"
   ]
  },
  {
   "cell_type": "markdown",
   "id": "painful-dryer",
   "metadata": {},
   "source": [
    "# Logistic Regression , fitting data in model and score"
   ]
  },
  {
   "cell_type": "code",
   "execution_count": 36,
   "id": "beginning-charleston",
   "metadata": {},
   "outputs": [
    {
     "name": "stdout",
     "output_type": "stream",
     "text": [
      "0.9688888888888889\n"
     ]
    }
   ],
   "source": [
    "lr = LogisticRegression(max_iter=10000)\n",
    "lr.fit(x_train,y_train)\n",
    "print(lr.score(x_test,y_test))"
   ]
  },
  {
   "cell_type": "markdown",
   "id": "sophisticated-browse",
   "metadata": {},
   "source": [
    "# cross validation score for Logistic Regression"
   ]
  },
  {
   "cell_type": "code",
   "execution_count": 37,
   "id": "opposite-debut",
   "metadata": {},
   "outputs": [
    {
     "name": "stdout",
     "output_type": "stream",
     "text": [
      "cross validation score for  Logistic Regression :  [0.925      0.87777778 0.93871866 0.93314763 0.89693593]\n"
     ]
    }
   ],
   "source": [
    "from sklearn.model_selection import cross_val_score\n",
    "print(\"cross validation score for  Logistic Regression : \",cross_val_score(lr,x,y))"
   ]
  },
  {
   "cell_type": "markdown",
   "id": "incorporated-israeli",
   "metadata": {},
   "source": [
    "# SVM , fitting data in model and score"
   ]
  },
  {
   "cell_type": "code",
   "execution_count": 38,
   "id": "liberal-caution",
   "metadata": {},
   "outputs": [
    {
     "data": {
      "text/plain": [
       "0.9911111111111112"
      ]
     },
     "execution_count": 38,
     "metadata": {},
     "output_type": "execute_result"
    }
   ],
   "source": [
    "svm =SVC()\n",
    "svm.fit(x_train, y_train)\n",
    "svm.score(x_test, y_test)"
   ]
  },
  {
   "cell_type": "markdown",
   "id": "explicit-praise",
   "metadata": {},
   "source": [
    "# cross validation score for svm"
   ]
  },
  {
   "cell_type": "code",
   "execution_count": 39,
   "id": "boxed-affiliation",
   "metadata": {},
   "outputs": [
    {
     "name": "stdout",
     "output_type": "stream",
     "text": [
      "cross validation score for  SVM :  [0.96494157 0.97996661 0.96494157]\n"
     ]
    }
   ],
   "source": [
    "print(\"cross validation score for  SVM : \",cross_val_score(svm,x,y,cv=3))"
   ]
  },
  {
   "cell_type": "markdown",
   "id": "adaptive-offering",
   "metadata": {},
   "source": [
    "# KNN ,  fitting data in model and score"
   ]
  },
  {
   "cell_type": "code",
   "execution_count": 40,
   "id": "protective-fiber",
   "metadata": {},
   "outputs": [
    {
     "data": {
      "text/plain": [
       "0.9822222222222222"
      ]
     },
     "execution_count": 40,
     "metadata": {},
     "output_type": "execute_result"
    }
   ],
   "source": [
    "from sklearn.neighbors import KNeighborsClassifier\n",
    "knn = KNeighborsClassifier()\n",
    "knn.fit(x_train, y_train)\n",
    "knn.score(x_test, y_test)"
   ]
  },
  {
   "cell_type": "markdown",
   "id": "competitive-rating",
   "metadata": {},
   "source": [
    "# cross validation score for KNN"
   ]
  },
  {
   "cell_type": "code",
   "execution_count": 41,
   "id": "located-maker",
   "metadata": {},
   "outputs": [
    {
     "name": "stdout",
     "output_type": "stream",
     "text": [
      "Cross validation score for KNN :  [0.94722222 0.95555556 0.96657382 0.98050139 0.9637883 ]\n"
     ]
    }
   ],
   "source": [
    "print(\"Cross validation score for KNN : \",cross_val_score(knn, x,y))"
   ]
  },
  {
   "cell_type": "markdown",
   "id": "passing-fellowship",
   "metadata": {},
   "source": [
    "# K-fold cross validation"
   ]
  },
  {
   "cell_type": "code",
   "execution_count": 42,
   "id": "existing-pride",
   "metadata": {},
   "outputs": [
    {
     "data": {
      "text/plain": [
       "KFold(n_splits=3, random_state=None, shuffle=False)"
      ]
     },
     "execution_count": 42,
     "metadata": {},
     "output_type": "execute_result"
    }
   ],
   "source": [
    "from sklearn.model_selection import KFold\n",
    "kf = KFold(n_splits=3)\n",
    "kf"
   ]
  },
  {
   "cell_type": "markdown",
   "id": "existing-comparative",
   "metadata": {},
   "source": [
    "# stratifiedKfold validation module "
   ]
  },
  {
   "cell_type": "code",
   "execution_count": 43,
   "id": "persistent-flash",
   "metadata": {},
   "outputs": [
    {
     "data": {
      "text/plain": [
       "StratifiedKFold(n_splits=3, random_state=None, shuffle=False)"
      ]
     },
     "execution_count": 43,
     "metadata": {},
     "output_type": "execute_result"
    }
   ],
   "source": [
    "from sklearn.model_selection import StratifiedKFold\n",
    "skf = StratifiedKFold(n_splits=3)\n",
    "skf"
   ]
  },
  {
   "cell_type": "markdown",
   "id": "clear-highlight",
   "metadata": {},
   "source": [
    "# Fitting data into different modules and evaluating score of that model"
   ]
  },
  {
   "cell_type": "code",
   "execution_count": 44,
   "id": "veterinary-soviet",
   "metadata": {},
   "outputs": [
    {
     "name": "stdout",
     "output_type": "stream",
     "text": [
      "Logistic Regression :  [0.9248747913188647, 0.9415692821368948, 0.9232053422370617]\n",
      "Support Vector Classifier :  [0.9649415692821369, 0.9799666110183639, 0.9649415692821369]\n",
      "K Nearest Neighbour :  [0.9582637729549248, 0.9632721202003339, 0.9666110183639399]\n"
     ]
    }
   ],
   "source": [
    "LR, SVC, KNN= [], [], []\n",
    "for train_index, test_index in skf.split(digits.data, digits.target):\n",
    "    x_train, x_test, y_train, y_test = digits.data[train_index],digits.data[test_index],digits.target[train_index],digits.target[test_index]\n",
    "    lr.fit(x_train, y_train)\n",
    "    LR.append(lr.score(x_test, y_test))\n",
    "    svm.fit(x_train, y_train)\n",
    "    SVC.append(svm.score(x_test, y_test))\n",
    "    knn.fit(x_train, y_train)\n",
    "    KNN.append(knn.score(x_test, y_test))\n",
    "print(\"Logistic Regression : \", LR)\n",
    "print(\"Support Vector Classifier : \", SVC)\n",
    "print(\"K Nearest Neighbour : \", KNN)"
   ]
  }
 ],
 "metadata": {
  "kernelspec": {
   "display_name": "Python 3",
   "language": "python",
   "name": "python3"
  },
  "language_info": {
   "codemirror_mode": {
    "name": "ipython",
    "version": 3
   },
   "file_extension": ".py",
   "mimetype": "text/x-python",
   "name": "python",
   "nbconvert_exporter": "python",
   "pygments_lexer": "ipython3",
   "version": "3.8.5"
  }
 },
 "nbformat": 4,
 "nbformat_minor": 5
}
