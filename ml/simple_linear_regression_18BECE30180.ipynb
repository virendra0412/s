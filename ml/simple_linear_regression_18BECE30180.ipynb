{
 "cells": [
  {
   "cell_type": "markdown",
   "id": "sharing-speaking",
   "metadata": {},
   "source": [
    "# import the libraries"
   ]
  },
  {
   "cell_type": "code",
   "execution_count": 13,
   "id": "further-expense",
   "metadata": {},
   "outputs": [],
   "source": [
    "#importing the required libraries\n",
    "\n",
    "import pandas as pd\n",
    "import numpy as np\n",
    "from sklearn.linear_model import LinearRegression\n",
    "import matplotlib.pyplot as plt"
   ]
  },
  {
   "cell_type": "markdown",
   "id": "alien-holly",
   "metadata": {},
   "source": [
    "# Import the dataset"
   ]
  },
  {
   "cell_type": "code",
   "execution_count": 14,
   "id": "automotive-wellington",
   "metadata": {},
   "outputs": [
    {
     "data": {
      "text/html": [
       "<div>\n",
       "<style scoped>\n",
       "    .dataframe tbody tr th:only-of-type {\n",
       "        vertical-align: middle;\n",
       "    }\n",
       "\n",
       "    .dataframe tbody tr th {\n",
       "        vertical-align: top;\n",
       "    }\n",
       "\n",
       "    .dataframe thead th {\n",
       "        text-align: right;\n",
       "    }\n",
       "</style>\n",
       "<table border=\"1\" class=\"dataframe\">\n",
       "  <thead>\n",
       "    <tr style=\"text-align: right;\">\n",
       "      <th></th>\n",
       "      <th>area</th>\n",
       "      <th>price</th>\n",
       "    </tr>\n",
       "  </thead>\n",
       "  <tbody>\n",
       "    <tr>\n",
       "      <th>0</th>\n",
       "      <td>2600</td>\n",
       "      <td>550000</td>\n",
       "    </tr>\n",
       "    <tr>\n",
       "      <th>1</th>\n",
       "      <td>3000</td>\n",
       "      <td>565000</td>\n",
       "    </tr>\n",
       "    <tr>\n",
       "      <th>2</th>\n",
       "      <td>3200</td>\n",
       "      <td>610000</td>\n",
       "    </tr>\n",
       "    <tr>\n",
       "      <th>3</th>\n",
       "      <td>3600</td>\n",
       "      <td>595000</td>\n",
       "    </tr>\n",
       "    <tr>\n",
       "      <th>4</th>\n",
       "      <td>4000</td>\n",
       "      <td>760000</td>\n",
       "    </tr>\n",
       "    <tr>\n",
       "      <th>5</th>\n",
       "      <td>4100</td>\n",
       "      <td>810000</td>\n",
       "    </tr>\n",
       "  </tbody>\n",
       "</table>\n",
       "</div>"
      ],
      "text/plain": [
       "   area   price\n",
       "0  2600  550000\n",
       "1  3000  565000\n",
       "2  3200  610000\n",
       "3  3600  595000\n",
       "4  4000  760000\n",
       "5  4100  810000"
      ]
     },
     "execution_count": 14,
     "metadata": {},
     "output_type": "execute_result"
    }
   ],
   "source": [
    "# loading the dataset \n",
    "\n",
    "data  =  pd.read_csv(\"C:\\\\Users\\\\Dell\\\\Desktop\\\\sem 6\\\\ML\\\\simple_li_homeprice.csv\")\n",
    "data"
   ]
  },
  {
   "cell_type": "markdown",
   "id": "fuzzy-delta",
   "metadata": {},
   "source": [
    "# divide the dataset into independent and dependent variable"
   ]
  },
  {
   "cell_type": "code",
   "execution_count": 15,
   "id": "changing-flight",
   "metadata": {},
   "outputs": [],
   "source": [
    "# dividing the dataset into dependent and independent variables\n",
    "\n",
    "x = data.iloc[:,:-1].values\n",
    "y = data.iloc[:,-1].values"
   ]
  },
  {
   "cell_type": "markdown",
   "id": "ahead-slovenia",
   "metadata": {},
   "source": [
    "# spliting the data into training and testing set"
   ]
  },
  {
   "cell_type": "code",
   "execution_count": 16,
   "id": "conceptual-report",
   "metadata": {},
   "outputs": [],
   "source": [
    "# spliting the data into training and testing set \n",
    "\n",
    " sklearn.model_selection import train_test_split\n",
    "from\n",
    "x_train, x_test, y_train, y_test = train_test_split(x, y, test_size=0.2, random_state=5)"
   ]
  },
  {
   "cell_type": "markdown",
   "id": "lined-surname",
   "metadata": {},
   "source": [
    "# fitting the values in the model"
   ]
  },
  {
   "cell_type": "code",
   "execution_count": 17,
   "id": "minimal-intellectual",
   "metadata": {},
   "outputs": [
    {
     "data": {
      "text/plain": [
       "LinearRegression()"
      ]
     },
     "execution_count": 17,
     "metadata": {},
     "output_type": "execute_result"
    }
   ],
   "source": [
    "# fitting the values of training set \n",
    "\n",
    "reg = LinearRegression()\n",
    "reg.fit(x_train,y_train)"
   ]
  },
  {
   "cell_type": "markdown",
   "id": "swedish-scheduling",
   "metadata": {},
   "source": [
    "# plotting graph for training model"
   ]
  },
  {
   "cell_type": "code",
   "execution_count": 18,
   "id": "quality-voluntary",
   "metadata": {},
   "outputs": [
    {
     "data": {
      "image/png": "[encoded data removed]",
      "text/plain": [
       "<Figure size 432x288 with 1 Axes>"
      ]
     },
     "metadata": {
      "needs_background": "light"
     },
     "output_type": "display_data"
    }
   ],
   "source": [
    "# plotting the graph for the training values i.e. x_train , y_train\n",
    "\n",
    "plt.scatter(x_train,y_train,color='black')\n",
    "plt.plot(x_train,reg.predict(x_train),color='red')\n",
    "plt.title('area vs price')\n",
    "plt.xlabel('area')\n",
    "plt.ylabel('price')\n",
    "plt.show()\n"
   ]
  },
  {
   "cell_type": "markdown",
   "id": "gross-astrology",
   "metadata": {},
   "source": [
    "# predicting price on the basis of x_test"
   ]
  },
  {
   "cell_type": "code",
   "execution_count": 19,
   "id": "suitable-court",
   "metadata": {},
   "outputs": [
    {
     "data": {
      "text/plain": [
       "array([725086.20689655, 604051.72413793])"
      ]
     },
     "execution_count": 19,
     "metadata": {},
     "output_type": "execute_result"
    }
   ],
   "source": [
    "# predicting the result \n",
    "\n",
    "y_pred = reg.predict(x_test)\n",
    "y_pred"
   ]
  },
  {
   "cell_type": "markdown",
   "id": "congressional-chest",
   "metadata": {},
   "source": [
    "# plotting graph for test model"
   ]
  },
  {
   "cell_type": "code",
   "execution_count": 20,
   "id": "favorite-virgin",
   "metadata": {},
   "outputs": [
    {
     "data": {
      "image/png": "[encoded data removed]",
      "text/plain": [
       "<Figure size 432x288 with 1 Axes>"
      ]
     },
     "metadata": {
      "needs_background": "light"
     },
     "output_type": "display_data"
    }
   ],
   "source": [
    "# plotting the graph for test model i.e. x_test,y_test\n",
    "\n",
    "plt.scatter(x_test,y_test,color='black')\n",
    "plt.plot(x_train,reg.predict(x_train),color='red')\n",
    "plt.title('area vs price')\n",
    "plt.xlabel('area')\n",
    "plt.ylabel('price')\n",
    "plt.show()"
   ]
  },
  {
   "cell_type": "markdown",
   "id": "guided-spider",
   "metadata": {},
   "source": [
    "# printing intercept "
   ]
  },
  {
   "cell_type": "code",
   "execution_count": 21,
   "id": "broken-facial",
   "metadata": {},
   "outputs": [
    {
     "data": {
      "text/plain": [
       "173706.89655172417"
      ]
     },
     "execution_count": 21,
     "metadata": {},
     "output_type": "execute_result"
    }
   ],
   "source": [
    "# intercept value\n",
    "\n",
    "reg.intercept_"
   ]
  },
  {
   "cell_type": "markdown",
   "id": "express-communications",
   "metadata": {},
   "source": [
    "# printing co-efficient "
   ]
  },
  {
   "cell_type": "code",
   "execution_count": 22,
   "id": "abandoned-enhancement",
   "metadata": {},
   "outputs": [
    {
     "data": {
      "text/plain": [
       "array([134.48275862])"
      ]
     },
     "execution_count": 22,
     "metadata": {},
     "output_type": "execute_result"
    }
   ],
   "source": [
    "# co-efficient value \n",
    "\n",
    "reg.coef_"
   ]
  },
  {
   "cell_type": "markdown",
   "id": "hollywood-merchandise",
   "metadata": {},
   "source": [
    "# evaluating the model"
   ]
  },
  {
   "cell_type": "code",
   "execution_count": 23,
   "id": "printable-medication",
   "metadata": {},
   "outputs": [
    {
     "name": "stdout",
     "output_type": "stream",
     "text": [
      "mean squared error :  3622867122.473242\n",
      "mean absolute error :  45431.03448275855\n",
      "root mean square error: 213.14557110753802\n"
     ]
    }
   ],
   "source": [
    "# finding the mean squared error \n",
    "\n",
    "from sklearn.metrics import mean_squared_error , mean_absolute_error \n",
    "mse = mean_squared_error([y_pred],[y_test])\n",
    "\n",
    "print(\"mean squared error : \" , mse)\n",
    "\n",
    "# finding the mean absolute error\n",
    "\n",
    "mae = mean_absolute_error([y_pred],[y_test])\n",
    "print(\"mean absolute error : \" , mae)\n",
    "\n",
    "# finding the root mean square error\n",
    "\n",
    "rms = np.sqrt(mae)\n",
    "print(\"root mean square error:\" , rms)"
   ]
  }
 ],
 "metadata": {
  "kernelspec": {
   "display_name": "Python 3",
   "language": "python",
   "name": "python3"
  },
  "language_info": {
   "codemirror_mode": {
    "name": "ipython",
    "version": 3
   },
   "file_extension": ".py",
   "mimetype": "text/x-python",
   "name": "python",
   "nbconvert_exporter": "python",
   "pygments_lexer": "ipython3",
   "version": "3.9.1"
  }
 },
 "nbformat": 4,
 "nbformat_minor": 5
}
