{
 "cells": [
  {
   "cell_type": "markdown",
   "id": "verbal-harrison",
   "metadata": {},
   "source": [
    "# Import the TensorFlow library"
   ]
  },
  {
   "cell_type": "code",
   "execution_count": null,
   "id": "medieval-rally",
   "metadata": {},
   "outputs": [],
   "source": [
    "import tensorflow as tf \n",
    "import matplotlib.pyplot as plt "
   ]
  },
  {
   "cell_type": "code",
   "execution_count": null,
   "id": "useful-lesbian",
   "metadata": {},
   "outputs": [],
   "source": [
    "mnist = tf.keras.datasets.mnist \n",
    "(x_train, y_train),(x_test, y_test) = mnist.load_data() "
   ]
  },
  {
   "cell_type": "markdown",
   "id": "solid-investment",
   "metadata": {},
   "source": [
    "# Preprocess the data"
   ]
  },
  {
   "cell_type": "code",
   "execution_count": null,
   "id": "terminal-junior",
   "metadata": {},
   "outputs": [],
   "source": [
    "plt.imshow(x_train[0], cmap=\"gray\") \n",
    "plt.show() "
   ]
  },
  {
   "cell_type": "code",
   "execution_count": null,
   "id": "informed-nitrogen",
   "metadata": {},
   "outputs": [],
   "source": [
    "# Normalize the train dataset\n",
    "x_train = tf.keras.utils.normalize(x_train, axis=1)\n",
    "# Normalize the test dataset\n",
    "x_test = tf.keras.utils.normalize(x_test, axis=1)\n"
   ]
  },
  {
   "cell_type": "markdown",
   "id": "healthy-scotland",
   "metadata": {},
   "source": [
    "# Build the model"
   ]
  },
  {
   "cell_type": "code",
   "execution_count": null,
   "id": "rubber-politics",
   "metadata": {},
   "outputs": [],
   "source": [
    "#Build the model object\n",
    "model = tf.keras.models.Sequential()\n",
    "# Add the Flatten Layer\n",
    "model.add(tf.keras.layers.Flatten())\n",
    "# Build the input and the hidden layers\n",
    "model.add(tf.keras.layers.Dense(128, activation=tf.nn.relu))\n",
    "model.add(tf.keras.layers.Dense(128, activation=tf.nn.relu))\n",
    "# Build the output layer\n",
    "model.add(tf.keras.layers.Dense(10, activation=tf.nn.softmax))"
   ]
  },
  {
   "cell_type": "markdown",
   "id": "oriented-diploma",
   "metadata": {},
   "source": [
    "# Compile the model"
   ]
  },
  {
   "cell_type": "code",
   "execution_count": null,
   "id": "western-frost",
   "metadata": {},
   "outputs": [],
   "source": [
    "# Compile the model\n",
    "model.compile(optimizer=\"adam\", loss=\"sparse_categorical_crossentropy\", metrics=[\"accuracy\"])"
   ]
  },
  {
   "cell_type": "markdown",
   "id": "acoustic-danish",
   "metadata": {},
   "source": [
    "# Train the model"
   ]
  },
  {
   "cell_type": "code",
   "execution_count": null,
   "id": "fabulous-development",
   "metadata": {},
   "outputs": [],
   "source": [
    "model.fit(x=x_train, y=y_train, epochs=5) # Start training process"
   ]
  },
  {
   "cell_type": "markdown",
   "id": "other-smooth",
   "metadata": {},
   "source": [
    "# Evaluate the model"
   ]
  },
  {
   "cell_type": "code",
   "execution_count": null,
   "id": "super-alloy",
   "metadata": {},
   "outputs": [],
   "source": [
    "# Evaluate the model performance\n",
    "test_loss, test_acc = model.evaluate(x=x_test, y=y_test)\n",
    "# Print out the model accuracy \n",
    "print('\\nTest accuracy:', test_acc)"
   ]
  },
  {
   "cell_type": "markdown",
   "id": "amateur-processor",
   "metadata": {},
   "source": [
    "# Make predictions"
   ]
  },
  {
   "cell_type": "code",
   "execution_count": null,
   "id": "absolute-genre",
   "metadata": {},
   "outputs": [],
   "source": [
    "predictions = model.predict([x_test]) "
   ]
  },
  {
   "cell_type": "code",
   "execution_count": null,
   "id": "solid-guest",
   "metadata": {},
   "outputs": [],
   "source": [
    "print(np.argmax(predictions[1000])) "
   ]
  },
  {
   "cell_type": "code",
   "execution_count": null,
   "id": "through-reward",
   "metadata": {},
   "outputs": [],
   "source": [
    "plt.imshow(x_test[1000], cmap=\"gray\") # Import the image\n",
    "plt.show() # Show the image"
   ]
  }
 ],
 "metadata": {
  "kernelspec": {
   "display_name": "Python 3",
   "language": "python",
   "name": "python3"
  },
  "language_info": {
   "codemirror_mode": {
    "name": "ipython",
    "version": 3
   },
   "file_extension": ".py",
   "mimetype": "text/x-python",
   "name": "python",
   "nbconvert_exporter": "python",
   "pygments_lexer": "ipython3",
   "version": "3.8.5"
  }
 },
 "nbformat": 4,
 "nbformat_minor": 5
}
