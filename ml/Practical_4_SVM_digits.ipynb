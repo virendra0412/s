{
 "cells": [
  {
   "cell_type": "markdown",
   "id": "ordinary-arabic",
   "metadata": {},
   "source": [
    "# importing the dataset"
   ]
  },
  {
   "cell_type": "code",
   "execution_count": 40,
   "id": "professional-michigan",
   "metadata": {},
   "outputs": [
    {
     "name": "stdout",
     "output_type": "stream",
     "text": [
      "(1797, 64)\n"
     ]
    }
   ],
   "source": [
    "# digits dataset \n",
    "\n",
    "from sklearn.datasets import load_digits\n",
    "digits_data = load_digits()\n",
    "print(digits_data.data.shape)"
   ]
  },
  {
   "cell_type": "markdown",
   "id": "polar-polymer",
   "metadata": {},
   "source": [
    "# independent data"
   ]
  },
  {
   "cell_type": "code",
   "execution_count": 27,
   "id": "awful-barcelona",
   "metadata": {},
   "outputs": [
    {
     "data": {
      "text/plain": [
       "array([[ 0.,  0.,  5., ...,  0.,  0.,  0.],\n",
       "       [ 0.,  0.,  0., ..., 10.,  0.,  0.],\n",
       "       [ 0.,  0.,  0., ..., 16.,  9.,  0.],\n",
       "       ...,\n",
       "       [ 0.,  0.,  1., ...,  6.,  0.,  0.],\n",
       "       [ 0.,  0.,  2., ..., 12.,  0.,  0.],\n",
       "       [ 0.,  0., 10., ..., 12.,  1.,  0.]])"
      ]
     },
     "execution_count": 27,
     "metadata": {},
     "output_type": "execute_result"
    }
   ],
   "source": [
    "x = digits_data.data\n",
    "x"
   ]
  },
  {
   "cell_type": "markdown",
   "id": "understanding-makeup",
   "metadata": {},
   "source": [
    "# target(dependent data)"
   ]
  },
  {
   "cell_type": "code",
   "execution_count": 41,
   "id": "dressed-sewing",
   "metadata": {},
   "outputs": [
    {
     "data": {
      "text/plain": [
       "array([0, 1, 2, ..., 8, 9, 8])"
      ]
     },
     "execution_count": 41,
     "metadata": {},
     "output_type": "execute_result"
    }
   ],
   "source": [
    "y = digits_data.target\n",
    "y"
   ]
  },
  {
   "cell_type": "markdown",
   "id": "infrared-aircraft",
   "metadata": {},
   "source": [
    "# splitting the dataset into testing and training set"
   ]
  },
  {
   "cell_type": "code",
   "execution_count": 42,
   "id": "patent-senegal",
   "metadata": {},
   "outputs": [],
   "source": [
    "from sklearn.model_selection import train_test_split\n",
    "x_train,x_test,y_train,y_test = train_test_split(x,y)\n"
   ]
  },
  {
   "cell_type": "markdown",
   "id": "mounted-logan",
   "metadata": {},
   "source": [
    "# list of column in digit dataset "
   ]
  },
  {
   "cell_type": "code",
   "execution_count": 43,
   "id": "correct-korean",
   "metadata": {},
   "outputs": [
    {
     "data": {
      "text/plain": [
       "['DESCR', 'data', 'feature_names', 'frame', 'images', 'target', 'target_names']"
      ]
     },
     "execution_count": 43,
     "metadata": {},
     "output_type": "execute_result"
    }
   ],
   "source": [
    "dir(digits_data)"
   ]
  },
  {
   "cell_type": "markdown",
   "id": "monthly-shock",
   "metadata": {},
   "source": [
    "# training the model"
   ]
  },
  {
   "cell_type": "code",
   "execution_count": 44,
   "id": "homeless-estimate",
   "metadata": {},
   "outputs": [
    {
     "data": {
      "text/plain": [
       "SVC(gamma=0.0001)"
      ]
     },
     "execution_count": 44,
     "metadata": {},
     "output_type": "execute_result"
    }
   ],
   "source": [
    "from sklearn.svm import SVC\n",
    "obj = SVC(gamma=0.0001)\n",
    "obj.fit(x_train,y_train)"
   ]
  },
  {
   "cell_type": "markdown",
   "id": "greater-chorus",
   "metadata": {},
   "source": [
    "# predicting the value"
   ]
  },
  {
   "cell_type": "code",
   "execution_count": 45,
   "id": "criminal-wyoming",
   "metadata": {},
   "outputs": [
    {
     "data": {
      "text/plain": [
       "array([5, 6, 6, 8, 5, 6, 4, 6, 9, 4, 1, 3, 6, 3, 2, 4, 4, 1, 5, 7, 1, 7,\n",
       "       1, 8, 3, 8, 0, 0, 0, 6, 4, 3, 3, 4, 1, 7, 9, 0, 0, 6, 0, 5, 9, 5,\n",
       "       5, 7, 1, 7, 8, 5, 1, 3, 4, 6, 0, 8, 7, 5, 7, 4, 9, 8, 9, 8, 3, 5,\n",
       "       6, 2, 0, 9, 6, 4, 7, 3, 3, 7, 8, 7, 4, 6, 6, 3, 9, 7, 1, 6, 0, 4,\n",
       "       5, 5, 6, 4, 5, 8, 0, 7, 8, 9, 3, 0, 7, 8, 1, 6, 2, 0, 6, 4, 5, 7,\n",
       "       9, 7, 4, 7, 9, 5, 3, 5, 7, 0, 2, 4, 5, 1, 2, 1, 8, 1, 9, 1, 4, 0,\n",
       "       0, 1, 0, 1, 8, 0, 9, 0, 0, 4, 4, 0, 7, 2, 3, 3, 6, 5, 7, 2, 6, 6,\n",
       "       2, 6, 6, 4, 9, 0, 5, 0, 0, 6, 0, 7, 5, 4, 7, 9, 4, 7, 0, 6, 4, 5,\n",
       "       7, 3, 1, 8, 0, 7, 1, 1, 1, 2, 8, 3, 4, 4, 2, 2, 5, 6, 0, 8, 4, 8,\n",
       "       3, 5, 8, 8, 8, 6, 0, 1, 1, 6, 1, 9, 6, 8, 0, 1, 9, 2, 0, 5, 4, 2,\n",
       "       3, 8, 1, 4, 4, 5, 2, 7, 0, 1, 2, 7, 6, 7, 9, 4, 5, 9, 8, 2, 6, 3,\n",
       "       2, 4, 5, 9, 2, 3, 5, 2, 5, 0, 3, 1, 4, 7, 7, 4, 0, 2, 9, 5, 0, 9,\n",
       "       1, 2, 2, 7, 0, 2, 8, 8, 9, 2, 3, 9, 3, 9, 9, 9, 6, 1, 7, 9, 8, 1,\n",
       "       2, 9, 3, 9, 9, 3, 0, 0, 0, 0, 2, 8, 0, 8, 3, 4, 7, 1, 1, 8, 7, 6,\n",
       "       8, 4, 8, 8, 5, 4, 3, 0, 3, 2, 7, 3, 7, 6, 4, 5, 7, 2, 0, 4, 7, 7,\n",
       "       0, 4, 9, 0, 7, 1, 7, 7, 3, 9, 5, 8, 2, 8, 4, 7, 8, 3, 3, 9, 7, 0,\n",
       "       0, 3, 0, 1, 8, 3, 2, 2, 5, 7, 1, 5, 4, 2, 8, 1, 3, 4, 6, 1, 9, 1,\n",
       "       9, 7, 6, 2, 9, 4, 8, 2, 7, 4, 0, 5, 6, 2, 2, 0, 8, 8, 3, 5, 9, 2,\n",
       "       6, 9, 9, 1, 0, 6, 7, 8, 4, 7, 0, 3, 3, 0, 5, 5, 5, 1, 5, 0, 3, 2,\n",
       "       8, 1, 6, 4, 9, 7, 4, 5, 8, 7, 4, 6, 6, 0, 3, 7, 4, 5, 5, 1, 9, 6,\n",
       "       8, 7, 4, 2, 7, 2, 8, 9, 5, 5])"
      ]
     },
     "execution_count": 45,
     "metadata": {},
     "output_type": "execute_result"
    }
   ],
   "source": [
    "y_pred = obj.predict(x_test)\n",
    "y_pred"
   ]
  },
  {
   "cell_type": "markdown",
   "id": "executed-rocket",
   "metadata": {},
   "source": [
    "# evaluating the model"
   ]
  },
  {
   "cell_type": "code",
   "execution_count": 46,
   "id": "center-belle",
   "metadata": {},
   "outputs": [
    {
     "data": {
      "text/plain": [
       "0.9782971619365609"
      ]
     },
     "execution_count": 46,
     "metadata": {},
     "output_type": "execute_result"
    }
   ],
   "source": [
    "from sklearn import metrics\n",
    "obj.score(x,y)"
   ]
  },
  {
   "cell_type": "markdown",
   "id": "medical-entry",
   "metadata": {},
   "source": [
    "# plotting digit in gray plot for range of specific values"
   ]
  },
  {
   "cell_type": "code",
   "execution_count": 47,
   "id": "polish-firewall",
   "metadata": {},
   "outputs": [
    {
     "data": {
      "text/plain": [
       "<Figure size 432x288 with 0 Axes>"
      ]
     },
     "metadata": {},
     "output_type": "display_data"
    },
    {
     "data": {
      "image/png": "[encoded data removed]",
      "text/plain": [
       "<Figure size 288x288 with 1 Axes>"
      ]
     },
     "metadata": {
      "needs_background": "light"
     },
     "output_type": "display_data"
    },
    {
     "data": {
      "image/png": "[encoded data removed]",
      "text/plain": [
       "<Figure size 288x288 with 1 Axes>"
      ]
     },
     "metadata": {
      "needs_background": "light"
     },
     "output_type": "display_data"
    },
    {
     "data": {
      "image/png": "[encoded data removed]",
      "text/plain": [
       "<Figure size 288x288 with 1 Axes>"
      ]
     },
     "metadata": {
      "needs_background": "light"
     },
     "output_type": "display_data"
    },
    {
     "data": {
      "image/png": "[encoded data removed]",
      "text/plain": [
       "<Figure size 288x288 with 1 Axes>"
      ]
     },
     "metadata": {
      "needs_background": "light"
     },
     "output_type": "display_data"
    },
    {
     "data": {
      "image/png": "[encoded data removed]",
      "text/plain": [
       "<Figure size 288x288 with 1 Axes>"
      ]
     },
     "metadata": {
      "needs_background": "light"
     },
     "output_type": "display_data"
    }
   ],
   "source": [
    "import matplotlib.pyplot as plt\n",
    "plt.gray()\n",
    "for i in range(100,175,15) :\n",
    "    plt.matshow(digits_data.images[i])"
   ]
  }
 ],
 "metadata": {
  "kernelspec": {
   "display_name": "Python 3",
   "language": "python",
   "name": "python3"
  },
  "language_info": {
   "codemirror_mode": {
    "name": "ipython",
    "version": 3
   },
   "file_extension": ".py",
   "mimetype": "text/x-python",
   "name": "python",
   "nbconvert_exporter": "python",
   "pygments_lexer": "ipython3",
   "version": "3.8.5"
  }
 },
 "nbformat": 4,
 "nbformat_minor": 5
}
