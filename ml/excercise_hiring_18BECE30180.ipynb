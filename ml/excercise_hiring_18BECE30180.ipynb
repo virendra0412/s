{
 "cells": [
  {
   "cell_type": "markdown",
   "id": "manufactured-accountability",
   "metadata": {},
   "source": [
    "#  importing libraries"
   ]
  },
  {
   "cell_type": "code",
   "execution_count": 23,
   "id": "negative-batch",
   "metadata": {},
   "outputs": [],
   "source": [
    "# importing the libraries \n",
    "\n",
    "import pandas as pd\n",
    "import numpy as np"
   ]
  },
  {
   "cell_type": "markdown",
   "id": "integrated-strength",
   "metadata": {},
   "source": [
    "# importing the dataset "
   ]
  },
  {
   "cell_type": "code",
   "execution_count": 24,
   "id": "floppy-spanish",
   "metadata": {},
   "outputs": [
    {
     "data": {
      "text/html": [
       "<div>\n",
       "<style scoped>\n",
       "    .dataframe tbody tr th:only-of-type {\n",
       "        vertical-align: middle;\n",
       "    }\n",
       "\n",
       "    .dataframe tbody tr th {\n",
       "        vertical-align: top;\n",
       "    }\n",
       "\n",
       "    .dataframe thead th {\n",
       "        text-align: right;\n",
       "    }\n",
       "</style>\n",
       "<table border=\"1\" class=\"dataframe\">\n",
       "  <thead>\n",
       "    <tr style=\"text-align: right;\">\n",
       "      <th></th>\n",
       "      <th>experience</th>\n",
       "      <th>text_score</th>\n",
       "      <th>interview_score</th>\n",
       "      <th>salary($)</th>\n",
       "    </tr>\n",
       "  </thead>\n",
       "  <tbody>\n",
       "    <tr>\n",
       "      <th>0</th>\n",
       "      <td>NaN</td>\n",
       "      <td>8.0</td>\n",
       "      <td>9</td>\n",
       "      <td>50000</td>\n",
       "    </tr>\n",
       "    <tr>\n",
       "      <th>1</th>\n",
       "      <td>NaN</td>\n",
       "      <td>8.0</td>\n",
       "      <td>6</td>\n",
       "      <td>45000</td>\n",
       "    </tr>\n",
       "    <tr>\n",
       "      <th>2</th>\n",
       "      <td>5.0</td>\n",
       "      <td>6.0</td>\n",
       "      <td>7</td>\n",
       "      <td>60000</td>\n",
       "    </tr>\n",
       "    <tr>\n",
       "      <th>3</th>\n",
       "      <td>2.0</td>\n",
       "      <td>10.0</td>\n",
       "      <td>10</td>\n",
       "      <td>65000</td>\n",
       "    </tr>\n",
       "    <tr>\n",
       "      <th>4</th>\n",
       "      <td>7.0</td>\n",
       "      <td>9.0</td>\n",
       "      <td>6</td>\n",
       "      <td>70000</td>\n",
       "    </tr>\n",
       "    <tr>\n",
       "      <th>5</th>\n",
       "      <td>3.0</td>\n",
       "      <td>7.0</td>\n",
       "      <td>10</td>\n",
       "      <td>62000</td>\n",
       "    </tr>\n",
       "    <tr>\n",
       "      <th>6</th>\n",
       "      <td>10.0</td>\n",
       "      <td>NaN</td>\n",
       "      <td>7</td>\n",
       "      <td>72000</td>\n",
       "    </tr>\n",
       "    <tr>\n",
       "      <th>7</th>\n",
       "      <td>11.0</td>\n",
       "      <td>7.0</td>\n",
       "      <td>8</td>\n",
       "      <td>80000</td>\n",
       "    </tr>\n",
       "  </tbody>\n",
       "</table>\n",
       "</div>"
      ],
      "text/plain": [
       "   experience  text_score  interview_score  salary($)\n",
       "0         NaN         8.0                9      50000\n",
       "1         NaN         8.0                6      45000\n",
       "2         5.0         6.0                7      60000\n",
       "3         2.0        10.0               10      65000\n",
       "4         7.0         9.0                6      70000\n",
       "5         3.0         7.0               10      62000\n",
       "6        10.0         NaN                7      72000\n",
       "7        11.0         7.0                8      80000"
      ]
     },
     "execution_count": 24,
     "metadata": {},
     "output_type": "execute_result"
    }
   ],
   "source": [
    "# reading the dataset\n",
    "\n",
    "data=pd.read_csv(\"C:\\\\Users\\\\Dell\\\\Desktop\\\\sem 6\\\\ML\\\\hiring.csv\") \n",
    "data"
   ]
  },
  {
   "cell_type": "markdown",
   "id": "owned-nancy",
   "metadata": {},
   "source": [
    "#  filling/replacing missing values"
   ]
  },
  {
   "cell_type": "code",
   "execution_count": 25,
   "id": "distinct-ghana",
   "metadata": {},
   "outputs": [
    {
     "data": {
      "text/html": [
       "<div>\n",
       "<style scoped>\n",
       "    .dataframe tbody tr th:only-of-type {\n",
       "        vertical-align: middle;\n",
       "    }\n",
       "\n",
       "    .dataframe tbody tr th {\n",
       "        vertical-align: top;\n",
       "    }\n",
       "\n",
       "    .dataframe thead th {\n",
       "        text-align: right;\n",
       "    }\n",
       "</style>\n",
       "<table border=\"1\" class=\"dataframe\">\n",
       "  <thead>\n",
       "    <tr style=\"text-align: right;\">\n",
       "      <th></th>\n",
       "      <th>experience</th>\n",
       "      <th>text_score</th>\n",
       "      <th>interview_score</th>\n",
       "      <th>salary($)</th>\n",
       "    </tr>\n",
       "  </thead>\n",
       "  <tbody>\n",
       "    <tr>\n",
       "      <th>0</th>\n",
       "      <td>6.333333</td>\n",
       "      <td>8.000000</td>\n",
       "      <td>9</td>\n",
       "      <td>50000</td>\n",
       "    </tr>\n",
       "    <tr>\n",
       "      <th>1</th>\n",
       "      <td>6.333333</td>\n",
       "      <td>8.000000</td>\n",
       "      <td>6</td>\n",
       "      <td>45000</td>\n",
       "    </tr>\n",
       "    <tr>\n",
       "      <th>2</th>\n",
       "      <td>5.000000</td>\n",
       "      <td>6.000000</td>\n",
       "      <td>7</td>\n",
       "      <td>60000</td>\n",
       "    </tr>\n",
       "    <tr>\n",
       "      <th>3</th>\n",
       "      <td>2.000000</td>\n",
       "      <td>10.000000</td>\n",
       "      <td>10</td>\n",
       "      <td>65000</td>\n",
       "    </tr>\n",
       "    <tr>\n",
       "      <th>4</th>\n",
       "      <td>7.000000</td>\n",
       "      <td>9.000000</td>\n",
       "      <td>6</td>\n",
       "      <td>70000</td>\n",
       "    </tr>\n",
       "    <tr>\n",
       "      <th>5</th>\n",
       "      <td>3.000000</td>\n",
       "      <td>7.000000</td>\n",
       "      <td>10</td>\n",
       "      <td>62000</td>\n",
       "    </tr>\n",
       "    <tr>\n",
       "      <th>6</th>\n",
       "      <td>10.000000</td>\n",
       "      <td>7.857143</td>\n",
       "      <td>7</td>\n",
       "      <td>72000</td>\n",
       "    </tr>\n",
       "    <tr>\n",
       "      <th>7</th>\n",
       "      <td>11.000000</td>\n",
       "      <td>7.000000</td>\n",
       "      <td>8</td>\n",
       "      <td>80000</td>\n",
       "    </tr>\n",
       "  </tbody>\n",
       "</table>\n",
       "</div>"
      ],
      "text/plain": [
       "   experience  text_score  interview_score  salary($)\n",
       "0    6.333333    8.000000                9      50000\n",
       "1    6.333333    8.000000                6      45000\n",
       "2    5.000000    6.000000                7      60000\n",
       "3    2.000000   10.000000               10      65000\n",
       "4    7.000000    9.000000                6      70000\n",
       "5    3.000000    7.000000               10      62000\n",
       "6   10.000000    7.857143                7      72000\n",
       "7   11.000000    7.000000                8      80000"
      ]
     },
     "execution_count": 25,
     "metadata": {},
     "output_type": "execute_result"
    }
   ],
   "source": [
    "# filling missing values\n",
    "\n",
    "data.fillna(data.mean(),inplace=True)\n",
    "data"
   ]
  },
  {
   "cell_type": "markdown",
   "id": "boring-defendant",
   "metadata": {},
   "source": [
    "#  dividing the dataset into independent and dependent variable"
   ]
  },
  {
   "cell_type": "code",
   "execution_count": 26,
   "id": "dressed-repair",
   "metadata": {},
   "outputs": [
    {
     "name": "stdout",
     "output_type": "stream",
     "text": [
      "   experience  text_score  interview_score\n",
      "0    6.333333    8.000000                9\n",
      "1    6.333333    8.000000                6\n",
      "2    5.000000    6.000000                7\n",
      "3    2.000000   10.000000               10\n",
      "4    7.000000    9.000000                6\n",
      "5    3.000000    7.000000               10\n",
      "6   10.000000    7.857143                7\n",
      "7   11.000000    7.000000                8\n",
      "   salary($)\n",
      "0      50000\n",
      "1      45000\n",
      "2      60000\n",
      "3      65000\n",
      "4      70000\n",
      "5      62000\n",
      "6      72000\n",
      "7      80000\n"
     ]
    }
   ],
   "source": [
    "# dividing the dataset into independent and dependent variable\n",
    "\n",
    "x = pd.DataFrame(data.iloc[:,:-1])\n",
    "y = pd.DataFrame(data.iloc[:,-1])\n",
    "print(x)\n",
    "print(y)"
   ]
  },
  {
   "cell_type": "markdown",
   "id": "atlantic-bread",
   "metadata": {},
   "source": [
    "#  splitting the data into training and testing sets"
   ]
  },
  {
   "cell_type": "code",
   "execution_count": 27,
   "id": "south-audio",
   "metadata": {},
   "outputs": [
    {
     "name": "stdout",
     "output_type": "stream",
     "text": [
      "   experience  text_score  interview_score\n",
      "4    7.000000    9.000000                6\n",
      "6   10.000000    7.857143                7\n",
      "3    2.000000   10.000000               10\n",
      "1    6.333333    8.000000                6\n",
      "0    6.333333    8.000000                9\n",
      "2    5.000000    6.000000                7\n",
      "   experience  text_score  interview_score\n",
      "5         3.0         7.0               10\n",
      "7        11.0         7.0                8\n",
      "   salary($)\n",
      "4      70000\n",
      "6      72000\n",
      "3      65000\n",
      "1      45000\n",
      "0      50000\n",
      "2      60000\n",
      "   salary($)\n",
      "5      62000\n",
      "7      80000\n"
     ]
    }
   ],
   "source": [
    "# splitting the dataset into training and testing ste\n",
    "\n",
    "from sklearn.model_selection import train_test_split\n",
    "\n",
    "x_train ,x_test , y_train , y_test = train_test_split(x,y,test_size = 0.2 ,random_state = 3)\n",
    "print(x_train)\n",
    "print(x_test)\n",
    "print(y_train)\n",
    "print(y_test)"
   ]
  },
  {
   "cell_type": "markdown",
   "id": "looking-chinese",
   "metadata": {},
   "source": [
    "#  fitting the data into model"
   ]
  },
  {
   "cell_type": "code",
   "execution_count": 28,
   "id": "smooth-decline",
   "metadata": {},
   "outputs": [
    {
     "data": {
      "text/plain": [
       "LinearRegression()"
      ]
     },
     "execution_count": 28,
     "metadata": {},
     "output_type": "execute_result"
    }
   ],
   "source": [
    "# fitting the data into model\n",
    "\n",
    "from sklearn.linear_model import LinearRegression\n",
    "reg = LinearRegression()\n",
    "reg.fit(x_train,y_train)"
   ]
  },
  {
   "cell_type": "markdown",
   "id": "bronze-timing",
   "metadata": {},
   "source": [
    "# co-efficient and intercept the model has choosen"
   ]
  },
  {
   "cell_type": "code",
   "execution_count": 29,
   "id": "extraordinary-airplane",
   "metadata": {},
   "outputs": [
    {
     "name": "stdout",
     "output_type": "stream",
     "text": [
      "[[1477.51345457 2749.26779201  417.74767219]]\n",
      "[25784.08202508]\n"
     ]
    }
   ],
   "source": [
    "# intercept and co-efficient of model\n",
    "\n",
    "print(reg.coef_)\n",
    "print(reg.intercept_)"
   ]
  },
  {
   "cell_type": "markdown",
   "id": "crucial-guarantee",
   "metadata": {},
   "source": [
    "#  predicting the values for x_test"
   ]
  },
  {
   "cell_type": "code",
   "execution_count": 30,
   "id": "harmful-personality",
   "metadata": {},
   "outputs": [
    {
     "data": {
      "text/plain": [
       "array([[53638.97365474],\n",
       "       [64623.58594694]])"
      ]
     },
     "execution_count": 30,
     "metadata": {},
     "output_type": "execute_result"
    }
   ],
   "source": [
    "# predictingg the value\n",
    "\n",
    "y_pred = reg.predict(x_test)\n",
    "y_pred"
   ]
  },
  {
   "cell_type": "markdown",
   "id": "civilian-valley",
   "metadata": {},
   "source": [
    "#  evaluating the model"
   ]
  },
  {
   "cell_type": "code",
   "execution_count": 31,
   "id": "eight-reply",
   "metadata": {},
   "outputs": [
    {
     "name": "stdout",
     "output_type": "stream",
     "text": [
      "mean absolute error :  11868.720199157022\n",
      "mean squared error :  153170435.33856523\n",
      "root mean squared error :  108.94365607577626\n"
     ]
    }
   ],
   "source": [
    "# finding the error\n",
    "\n",
    "from sklearn import metrics\n",
    "print(\"mean absolute error : \" , metrics.mean_absolute_error(y_test,y_pred))\n",
    "print(\"mean squared error : \" , metrics.mean_squared_error(y_test,y_pred))\n",
    "print(\"root mean squared error : \" , np.sqrt(metrics.mean_absolute_error(y_test,y_pred)))"
   ]
  }
 ],
 "metadata": {
  "kernelspec": {
   "display_name": "Python 3",
   "language": "python",
   "name": "python3"
  },
  "language_info": {
   "codemirror_mode": {
    "name": "ipython",
    "version": 3
   },
   "file_extension": ".py",
   "mimetype": "text/x-python",
   "name": "python",
   "nbconvert_exporter": "python",
   "pygments_lexer": "ipython3",
   "version": "3.8.5"
  }
 },
 "nbformat": 4,
 "nbformat_minor": 5
}
