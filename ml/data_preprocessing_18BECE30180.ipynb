{
 "cells": [
  {
   "cell_type": "markdown",
   "id": "entertaining-potter",
   "metadata": {},
   "source": [
    "# Import the Libraries"
   ]
  },
  {
   "cell_type": "code",
   "execution_count": 2,
   "id": "solved-meter",
   "metadata": {},
   "outputs": [],
   "source": [
    "# import the libraries\n",
    "\n",
    "import pandas as pd\n",
    "import numpy as np"
   ]
  },
  {
   "cell_type": "markdown",
   "id": "congressional-brain",
   "metadata": {},
   "source": [
    "# Import the dataset"
   ]
  },
  {
   "cell_type": "code",
   "execution_count": 3,
   "id": "dental-preservation",
   "metadata": {},
   "outputs": [
    {
     "data": {
      "text/html": [
       "<div>\n",
       "<style scoped>\n",
       "    .dataframe tbody tr th:only-of-type {\n",
       "        vertical-align: middle;\n",
       "    }\n",
       "\n",
       "    .dataframe tbody tr th {\n",
       "        vertical-align: top;\n",
       "    }\n",
       "\n",
       "    .dataframe thead th {\n",
       "        text-align: right;\n",
       "    }\n",
       "</style>\n",
       "<table border=\"1\" class=\"dataframe\">\n",
       "  <thead>\n",
       "    <tr style=\"text-align: right;\">\n",
       "      <th></th>\n",
       "      <th>Region</th>\n",
       "      <th>Age</th>\n",
       "      <th>Income</th>\n",
       "      <th>Online Shopper</th>\n",
       "    </tr>\n",
       "  </thead>\n",
       "  <tbody>\n",
       "    <tr>\n",
       "      <th>0</th>\n",
       "      <td>India</td>\n",
       "      <td>49.0</td>\n",
       "      <td>45000.0</td>\n",
       "      <td>Yes</td>\n",
       "    </tr>\n",
       "    <tr>\n",
       "      <th>1</th>\n",
       "      <td>Brazil</td>\n",
       "      <td>48.0</td>\n",
       "      <td>80000.0</td>\n",
       "      <td>No</td>\n",
       "    </tr>\n",
       "    <tr>\n",
       "      <th>2</th>\n",
       "      <td>USA</td>\n",
       "      <td>35.0</td>\n",
       "      <td>56600.0</td>\n",
       "      <td>Yes</td>\n",
       "    </tr>\n",
       "    <tr>\n",
       "      <th>3</th>\n",
       "      <td>India</td>\n",
       "      <td>30.0</td>\n",
       "      <td>NaN</td>\n",
       "      <td>No</td>\n",
       "    </tr>\n",
       "    <tr>\n",
       "      <th>4</th>\n",
       "      <td>USA</td>\n",
       "      <td>NaN</td>\n",
       "      <td>45120.0</td>\n",
       "      <td>Yes</td>\n",
       "    </tr>\n",
       "    <tr>\n",
       "      <th>5</th>\n",
       "      <td>Brazil</td>\n",
       "      <td>39.0</td>\n",
       "      <td>24570.0</td>\n",
       "      <td>No</td>\n",
       "    </tr>\n",
       "    <tr>\n",
       "      <th>6</th>\n",
       "      <td>India</td>\n",
       "      <td>46.0</td>\n",
       "      <td>59520.0</td>\n",
       "      <td>No</td>\n",
       "    </tr>\n",
       "    <tr>\n",
       "      <th>7</th>\n",
       "      <td>Brazil</td>\n",
       "      <td>50.0</td>\n",
       "      <td>53254.0</td>\n",
       "      <td>Yes</td>\n",
       "    </tr>\n",
       "    <tr>\n",
       "      <th>8</th>\n",
       "      <td>India</td>\n",
       "      <td>38.0</td>\n",
       "      <td>78456.0</td>\n",
       "      <td>Yes</td>\n",
       "    </tr>\n",
       "  </tbody>\n",
       "</table>\n",
       "</div>"
      ],
      "text/plain": [
       "   Region   Age   Income Online Shopper\n",
       "0   India  49.0  45000.0            Yes\n",
       "1  Brazil  48.0  80000.0             No\n",
       "2     USA  35.0  56600.0            Yes\n",
       "3   India  30.0      NaN             No\n",
       "4     USA   NaN  45120.0            Yes\n",
       "5  Brazil  39.0  24570.0             No\n",
       "6   India  46.0  59520.0             No\n",
       "7  Brazil  50.0  53254.0            Yes\n",
       "8   India  38.0  78456.0            Yes"
      ]
     },
     "execution_count": 3,
     "metadata": {},
     "output_type": "execute_result"
    }
   ],
   "source": [
    "# import the dataset\n",
    "\n",
    "dataset =  pd.read_csv(\"C:\\\\Users\\\\Dell\\\\Desktop\\\\sem 6\\\\ML\\\\first_sample.csv\")\n",
    "dataset"
   ]
  },
  {
   "cell_type": "markdown",
   "id": "spare-feedback",
   "metadata": {},
   "source": [
    "# Check the missing values"
   ]
  },
  {
   "cell_type": "code",
   "execution_count": 4,
   "id": "acute-cameroon",
   "metadata": {},
   "outputs": [
    {
     "name": "stdout",
     "output_type": "stream",
     "text": [
      "<class 'pandas.core.frame.DataFrame'>\n",
      "RangeIndex: 9 entries, 0 to 8\n",
      "Data columns (total 4 columns):\n",
      " #   Column          Non-Null Count  Dtype  \n",
      "---  ------          --------------  -----  \n",
      " 0   Region          9 non-null      object \n",
      " 1   Age             8 non-null      float64\n",
      " 2   Income          8 non-null      float64\n",
      " 3   Online Shopper  9 non-null      object \n",
      "dtypes: float64(2), object(2)\n",
      "memory usage: 416.0+ bytes\n"
     ]
    },
    {
     "data": {
      "text/plain": [
       "Region            0\n",
       "Age               1\n",
       "Income            1\n",
       "Online Shopper    0\n",
       "dtype: int64"
      ]
     },
     "execution_count": 4,
     "metadata": {},
     "output_type": "execute_result"
    }
   ],
   "source": [
    "# check  out the missing values\n",
    "\n",
    "dataset.info()\n",
    "dataset.isna()\n",
    "dataset.isna().sum()"
   ]
  },
  {
   "cell_type": "markdown",
   "id": "opponent-mention",
   "metadata": {},
   "source": [
    "# divide the dataset into independent variable"
   ]
  },
  {
   "cell_type": "code",
   "execution_count": 5,
   "id": "moving-pride",
   "metadata": {},
   "outputs": [
    {
     "data": {
      "text/plain": [
       "array([['India', 49.0, 45000.0],\n",
       "       ['Brazil', 48.0, 80000.0],\n",
       "       ['USA', 35.0, 56600.0],\n",
       "       ['India', 30.0, nan],\n",
       "       ['USA', nan, 45120.0],\n",
       "       ['Brazil', 39.0, 24570.0],\n",
       "       ['India', 46.0, 59520.0],\n",
       "       ['Brazil', 50.0, 53254.0],\n",
       "       ['India', 38.0, 78456.0]], dtype=object)"
      ]
     },
     "execution_count": 5,
     "metadata": {},
     "output_type": "execute_result"
    }
   ],
   "source": [
    "# dividing the dataset into independent variable\n",
    "\n",
    "x = dataset.iloc[:,:-1].values\n",
    "x"
   ]
  },
  {
   "cell_type": "markdown",
   "id": "induced-earthquake",
   "metadata": {},
   "source": [
    "# dividing the dataset into independent variable"
   ]
  },
  {
   "cell_type": "code",
   "execution_count": 6,
   "id": "thirty-transport",
   "metadata": {},
   "outputs": [
    {
     "data": {
      "text/plain": [
       "array(['Yes', 'No', 'Yes', 'No', 'Yes', 'No', 'No', 'Yes', 'Yes'],\n",
       "      dtype=object)"
      ]
     },
     "execution_count": 6,
     "metadata": {},
     "output_type": "execute_result"
    }
   ],
   "source": [
    "# divide the dataset into independent variable\n",
    "\n",
    "y = dataset.iloc[:,-1].values\n",
    "y"
   ]
  },
  {
   "cell_type": "markdown",
   "id": "little-swiss",
   "metadata": {},
   "source": [
    "# Filling missing values using simple imputer"
   ]
  },
  {
   "cell_type": "code",
   "execution_count": 7,
   "id": "strong-filename",
   "metadata": {},
   "outputs": [
    {
     "data": {
      "text/plain": [
       "array([['India', 49.0, 45000.0],\n",
       "       ['Brazil', 48.0, 80000.0],\n",
       "       ['USA', 35.0, 56600.0],\n",
       "       ['India', 30.0, 55315.0],\n",
       "       ['USA', 41.875, 45120.0],\n",
       "       ['Brazil', 39.0, 24570.0],\n",
       "       ['India', 46.0, 59520.0],\n",
       "       ['Brazil', 50.0, 53254.0],\n",
       "       ['India', 38.0, 78456.0]], dtype=object)"
      ]
     },
     "execution_count": 7,
     "metadata": {},
     "output_type": "execute_result"
    }
   ],
   "source": [
    "# filling the missing values using simple imputer\n",
    "\n",
    "from sklearn.impute import SimpleImputer\n",
    "\n",
    "imputer = SimpleImputer(missing_values = np.nan , strategy = 'mean')\n",
    "imputer.fit(x[:,1:3])\n",
    "x[:,1:3] = imputer.transform(x[:,1:3])\n",
    "x"
   ]
  },
  {
   "cell_type": "markdown",
   "id": "wrapped-sphere",
   "metadata": {},
   "source": [
    "# see the categorical data"
   ]
  },
  {
   "cell_type": "code",
   "execution_count": 8,
   "id": "based-police",
   "metadata": {},
   "outputs": [
    {
     "data": {
      "text/plain": [
       "array([[1, 49.0, 45000.0],\n",
       "       [0, 48.0, 80000.0],\n",
       "       [2, 35.0, 56600.0],\n",
       "       [1, 30.0, 55315.0],\n",
       "       [2, 41.875, 45120.0],\n",
       "       [0, 39.0, 24570.0],\n",
       "       [1, 46.0, 59520.0],\n",
       "       [0, 50.0, 53254.0],\n",
       "       [1, 38.0, 78456.0]], dtype=object)"
      ]
     },
     "execution_count": 8,
     "metadata": {},
     "output_type": "execute_result"
    }
   ],
   "source": [
    "# see the categorical data\n",
    "\n",
    "from sklearn.preprocessing import LabelEncoder\n",
    "label_encoder = LabelEncoder()\n",
    "x[:,0] = label_encoder.fit_transform(x[:,0])\n",
    "x"
   ]
  },
  {
   "cell_type": "markdown",
   "id": "flexible-yorkshire",
   "metadata": {},
   "source": [
    "# creating Dummy variable"
   ]
  },
  {
   "cell_type": "code",
   "execution_count": 9,
   "id": "fatty-directory",
   "metadata": {},
   "outputs": [
    {
     "data": {
      "text/html": [
       "<div>\n",
       "<style scoped>\n",
       "    .dataframe tbody tr th:only-of-type {\n",
       "        vertical-align: middle;\n",
       "    }\n",
       "\n",
       "    .dataframe tbody tr th {\n",
       "        vertical-align: top;\n",
       "    }\n",
       "\n",
       "    .dataframe thead th {\n",
       "        text-align: right;\n",
       "    }\n",
       "</style>\n",
       "<table border=\"1\" class=\"dataframe\">\n",
       "  <thead>\n",
       "    <tr style=\"text-align: right;\">\n",
       "      <th></th>\n",
       "      <th>Brazil</th>\n",
       "      <th>India</th>\n",
       "      <th>USA</th>\n",
       "    </tr>\n",
       "  </thead>\n",
       "  <tbody>\n",
       "    <tr>\n",
       "      <th>0</th>\n",
       "      <td>0</td>\n",
       "      <td>1</td>\n",
       "      <td>0</td>\n",
       "    </tr>\n",
       "    <tr>\n",
       "      <th>1</th>\n",
       "      <td>1</td>\n",
       "      <td>0</td>\n",
       "      <td>0</td>\n",
       "    </tr>\n",
       "    <tr>\n",
       "      <th>2</th>\n",
       "      <td>0</td>\n",
       "      <td>0</td>\n",
       "      <td>1</td>\n",
       "    </tr>\n",
       "    <tr>\n",
       "      <th>3</th>\n",
       "      <td>0</td>\n",
       "      <td>1</td>\n",
       "      <td>0</td>\n",
       "    </tr>\n",
       "    <tr>\n",
       "      <th>4</th>\n",
       "      <td>0</td>\n",
       "      <td>0</td>\n",
       "      <td>1</td>\n",
       "    </tr>\n",
       "    <tr>\n",
       "      <th>5</th>\n",
       "      <td>1</td>\n",
       "      <td>0</td>\n",
       "      <td>0</td>\n",
       "    </tr>\n",
       "    <tr>\n",
       "      <th>6</th>\n",
       "      <td>0</td>\n",
       "      <td>1</td>\n",
       "      <td>0</td>\n",
       "    </tr>\n",
       "    <tr>\n",
       "      <th>7</th>\n",
       "      <td>1</td>\n",
       "      <td>0</td>\n",
       "      <td>0</td>\n",
       "    </tr>\n",
       "    <tr>\n",
       "      <th>8</th>\n",
       "      <td>0</td>\n",
       "      <td>1</td>\n",
       "      <td>0</td>\n",
       "    </tr>\n",
       "  </tbody>\n",
       "</table>\n",
       "</div>"
      ],
      "text/plain": [
       "   Brazil  India  USA\n",
       "0       0      1    0\n",
       "1       1      0    0\n",
       "2       0      0    1\n",
       "3       0      1    0\n",
       "4       0      0    1\n",
       "5       1      0    0\n",
       "6       0      1    0\n",
       "7       1      0    0\n",
       "8       0      1    0"
      ]
     },
     "execution_count": 9,
     "metadata": {},
     "output_type": "execute_result"
    }
   ],
   "source": [
    "# creating Dummy varaiable using pandas in preprocessing\n",
    "\n",
    "dummy = pd.get_dummies(dataset['Region'])\n",
    "dummy"
   ]
  },
  {
   "cell_type": "markdown",
   "id": "after-feeding",
   "metadata": {},
   "source": [
    "# concating with dummy variable with dataset"
   ]
  },
  {
   "cell_type": "code",
   "execution_count": 10,
   "id": "individual-sample",
   "metadata": {},
   "outputs": [
    {
     "data": {
      "text/html": [
       "<div>\n",
       "<style scoped>\n",
       "    .dataframe tbody tr th:only-of-type {\n",
       "        vertical-align: middle;\n",
       "    }\n",
       "\n",
       "    .dataframe tbody tr th {\n",
       "        vertical-align: top;\n",
       "    }\n",
       "\n",
       "    .dataframe thead th {\n",
       "        text-align: right;\n",
       "    }\n",
       "</style>\n",
       "<table border=\"1\" class=\"dataframe\">\n",
       "  <thead>\n",
       "    <tr style=\"text-align: right;\">\n",
       "      <th></th>\n",
       "      <th>Region</th>\n",
       "      <th>Age</th>\n",
       "      <th>Income</th>\n",
       "      <th>Online Shopper</th>\n",
       "      <th>Brazil</th>\n",
       "      <th>India</th>\n",
       "      <th>USA</th>\n",
       "    </tr>\n",
       "  </thead>\n",
       "  <tbody>\n",
       "    <tr>\n",
       "      <th>0</th>\n",
       "      <td>India</td>\n",
       "      <td>49.0</td>\n",
       "      <td>45000.0</td>\n",
       "      <td>Yes</td>\n",
       "      <td>0</td>\n",
       "      <td>1</td>\n",
       "      <td>0</td>\n",
       "    </tr>\n",
       "    <tr>\n",
       "      <th>1</th>\n",
       "      <td>Brazil</td>\n",
       "      <td>48.0</td>\n",
       "      <td>80000.0</td>\n",
       "      <td>No</td>\n",
       "      <td>1</td>\n",
       "      <td>0</td>\n",
       "      <td>0</td>\n",
       "    </tr>\n",
       "    <tr>\n",
       "      <th>2</th>\n",
       "      <td>USA</td>\n",
       "      <td>35.0</td>\n",
       "      <td>56600.0</td>\n",
       "      <td>Yes</td>\n",
       "      <td>0</td>\n",
       "      <td>0</td>\n",
       "      <td>1</td>\n",
       "    </tr>\n",
       "    <tr>\n",
       "      <th>3</th>\n",
       "      <td>India</td>\n",
       "      <td>30.0</td>\n",
       "      <td>NaN</td>\n",
       "      <td>No</td>\n",
       "      <td>0</td>\n",
       "      <td>1</td>\n",
       "      <td>0</td>\n",
       "    </tr>\n",
       "    <tr>\n",
       "      <th>4</th>\n",
       "      <td>USA</td>\n",
       "      <td>NaN</td>\n",
       "      <td>45120.0</td>\n",
       "      <td>Yes</td>\n",
       "      <td>0</td>\n",
       "      <td>0</td>\n",
       "      <td>1</td>\n",
       "    </tr>\n",
       "    <tr>\n",
       "      <th>5</th>\n",
       "      <td>Brazil</td>\n",
       "      <td>39.0</td>\n",
       "      <td>24570.0</td>\n",
       "      <td>No</td>\n",
       "      <td>1</td>\n",
       "      <td>0</td>\n",
       "      <td>0</td>\n",
       "    </tr>\n",
       "    <tr>\n",
       "      <th>6</th>\n",
       "      <td>India</td>\n",
       "      <td>46.0</td>\n",
       "      <td>59520.0</td>\n",
       "      <td>No</td>\n",
       "      <td>0</td>\n",
       "      <td>1</td>\n",
       "      <td>0</td>\n",
       "    </tr>\n",
       "    <tr>\n",
       "      <th>7</th>\n",
       "      <td>Brazil</td>\n",
       "      <td>50.0</td>\n",
       "      <td>53254.0</td>\n",
       "      <td>Yes</td>\n",
       "      <td>1</td>\n",
       "      <td>0</td>\n",
       "      <td>0</td>\n",
       "    </tr>\n",
       "    <tr>\n",
       "      <th>8</th>\n",
       "      <td>India</td>\n",
       "      <td>38.0</td>\n",
       "      <td>78456.0</td>\n",
       "      <td>Yes</td>\n",
       "      <td>0</td>\n",
       "      <td>1</td>\n",
       "      <td>0</td>\n",
       "    </tr>\n",
       "  </tbody>\n",
       "</table>\n",
       "</div>"
      ],
      "text/plain": [
       "   Region   Age   Income Online Shopper  Brazil  India  USA\n",
       "0   India  49.0  45000.0            Yes       0      1    0\n",
       "1  Brazil  48.0  80000.0             No       1      0    0\n",
       "2     USA  35.0  56600.0            Yes       0      0    1\n",
       "3   India  30.0      NaN             No       0      1    0\n",
       "4     USA   NaN  45120.0            Yes       0      0    1\n",
       "5  Brazil  39.0  24570.0             No       1      0    0\n",
       "6   India  46.0  59520.0             No       0      1    0\n",
       "7  Brazil  50.0  53254.0            Yes       1      0    0\n",
       "8   India  38.0  78456.0            Yes       0      1    0"
      ]
     },
     "execution_count": 10,
     "metadata": {},
     "output_type": "execute_result"
    }
   ],
   "source": [
    "# concating with dummy varibles with dataset\n",
    "\n",
    "dataset = pd.concat([dataset,dummy],axis=1)\n",
    "dataset"
   ]
  },
  {
   "cell_type": "markdown",
   "id": "successful-zambia",
   "metadata": {},
   "source": [
    "# Droping the dedundant data "
   ]
  },
  {
   "cell_type": "code",
   "execution_count": 11,
   "id": "liable-thumbnail",
   "metadata": {},
   "outputs": [
    {
     "data": {
      "text/html": [
       "<div>\n",
       "<style scoped>\n",
       "    .dataframe tbody tr th:only-of-type {\n",
       "        vertical-align: middle;\n",
       "    }\n",
       "\n",
       "    .dataframe tbody tr th {\n",
       "        vertical-align: top;\n",
       "    }\n",
       "\n",
       "    .dataframe thead th {\n",
       "        text-align: right;\n",
       "    }\n",
       "</style>\n",
       "<table border=\"1\" class=\"dataframe\">\n",
       "  <thead>\n",
       "    <tr style=\"text-align: right;\">\n",
       "      <th></th>\n",
       "      <th>Age</th>\n",
       "      <th>Income</th>\n",
       "      <th>Online Shopper</th>\n",
       "      <th>Brazil</th>\n",
       "      <th>India</th>\n",
       "      <th>USA</th>\n",
       "    </tr>\n",
       "  </thead>\n",
       "  <tbody>\n",
       "    <tr>\n",
       "      <th>0</th>\n",
       "      <td>49.0</td>\n",
       "      <td>45000.0</td>\n",
       "      <td>Yes</td>\n",
       "      <td>0</td>\n",
       "      <td>1</td>\n",
       "      <td>0</td>\n",
       "    </tr>\n",
       "    <tr>\n",
       "      <th>1</th>\n",
       "      <td>48.0</td>\n",
       "      <td>80000.0</td>\n",
       "      <td>No</td>\n",
       "      <td>1</td>\n",
       "      <td>0</td>\n",
       "      <td>0</td>\n",
       "    </tr>\n",
       "    <tr>\n",
       "      <th>2</th>\n",
       "      <td>35.0</td>\n",
       "      <td>56600.0</td>\n",
       "      <td>Yes</td>\n",
       "      <td>0</td>\n",
       "      <td>0</td>\n",
       "      <td>1</td>\n",
       "    </tr>\n",
       "    <tr>\n",
       "      <th>3</th>\n",
       "      <td>30.0</td>\n",
       "      <td>NaN</td>\n",
       "      <td>No</td>\n",
       "      <td>0</td>\n",
       "      <td>1</td>\n",
       "      <td>0</td>\n",
       "    </tr>\n",
       "    <tr>\n",
       "      <th>4</th>\n",
       "      <td>NaN</td>\n",
       "      <td>45120.0</td>\n",
       "      <td>Yes</td>\n",
       "      <td>0</td>\n",
       "      <td>0</td>\n",
       "      <td>1</td>\n",
       "    </tr>\n",
       "    <tr>\n",
       "      <th>5</th>\n",
       "      <td>39.0</td>\n",
       "      <td>24570.0</td>\n",
       "      <td>No</td>\n",
       "      <td>1</td>\n",
       "      <td>0</td>\n",
       "      <td>0</td>\n",
       "    </tr>\n",
       "    <tr>\n",
       "      <th>6</th>\n",
       "      <td>46.0</td>\n",
       "      <td>59520.0</td>\n",
       "      <td>No</td>\n",
       "      <td>0</td>\n",
       "      <td>1</td>\n",
       "      <td>0</td>\n",
       "    </tr>\n",
       "    <tr>\n",
       "      <th>7</th>\n",
       "      <td>50.0</td>\n",
       "      <td>53254.0</td>\n",
       "      <td>Yes</td>\n",
       "      <td>1</td>\n",
       "      <td>0</td>\n",
       "      <td>0</td>\n",
       "    </tr>\n",
       "    <tr>\n",
       "      <th>8</th>\n",
       "      <td>38.0</td>\n",
       "      <td>78456.0</td>\n",
       "      <td>Yes</td>\n",
       "      <td>0</td>\n",
       "      <td>1</td>\n",
       "      <td>0</td>\n",
       "    </tr>\n",
       "  </tbody>\n",
       "</table>\n",
       "</div>"
      ],
      "text/plain": [
       "    Age   Income Online Shopper  Brazil  India  USA\n",
       "0  49.0  45000.0            Yes       0      1    0\n",
       "1  48.0  80000.0             No       1      0    0\n",
       "2  35.0  56600.0            Yes       0      0    1\n",
       "3  30.0      NaN             No       0      1    0\n",
       "4   NaN  45120.0            Yes       0      0    1\n",
       "5  39.0  24570.0             No       1      0    0\n",
       "6  46.0  59520.0             No       0      1    0\n",
       "7  50.0  53254.0            Yes       1      0    0\n",
       "8  38.0  78456.0            Yes       0      1    0"
      ]
     },
     "execution_count": 11,
     "metadata": {},
     "output_type": "execute_result"
    }
   ],
   "source": [
    "# dropping the Region column\n",
    "\n",
    "dataset.drop(['Region'],axis=1)"
   ]
  },
  {
   "cell_type": "markdown",
   "id": "virgin-sampling",
   "metadata": {},
   "source": [
    "# spliting the data into training and testing set"
   ]
  },
  {
   "cell_type": "code",
   "execution_count": 12,
   "id": "stopped-duration",
   "metadata": {},
   "outputs": [],
   "source": [
    "#Splitting the dataset into Training and Testing Set\n",
    "\n",
    "from sklearn.model_selection import train_test_split\n",
    "\n",
    "x_train,x_test,y_train,y_test = train_test_split(x,y,test_size = 0.2 ,random_state=5)"
   ]
  },
  {
   "cell_type": "markdown",
   "id": "complex-designer",
   "metadata": {},
   "source": [
    "#  result of x_train"
   ]
  },
  {
   "cell_type": "code",
   "execution_count": 13,
   "id": "designed-bottle",
   "metadata": {},
   "outputs": [
    {
     "data": {
      "text/plain": [
       "array([[1, 38.0, 78456.0],\n",
       "       [0, 50.0, 53254.0],\n",
       "       [0, 48.0, 80000.0],\n",
       "       [1, 49.0, 45000.0],\n",
       "       [0, 39.0, 24570.0],\n",
       "       [1, 46.0, 59520.0],\n",
       "       [1, 30.0, 55315.0]], dtype=object)"
      ]
     },
     "execution_count": 13,
     "metadata": {},
     "output_type": "execute_result"
    }
   ],
   "source": [
    "# x_train is the training part of matrix features\n",
    "\n",
    "x_train"
   ]
  },
  {
   "cell_type": "markdown",
   "id": "adjusted-dakota",
   "metadata": {},
   "source": [
    "# result of x_test"
   ]
  },
  {
   "cell_type": "code",
   "execution_count": 14,
   "id": "impossible-republic",
   "metadata": {},
   "outputs": [
    {
     "data": {
      "text/plain": [
       "array([[2, 35.0, 56600.0],\n",
       "       [2, 41.875, 45120.0]], dtype=object)"
      ]
     },
     "execution_count": 14,
     "metadata": {},
     "output_type": "execute_result"
    }
   ],
   "source": [
    "# x_test is the test part of the matrix feature\n",
    "\n",
    "x_test"
   ]
  },
  {
   "cell_type": "markdown",
   "id": "expired-quality",
   "metadata": {},
   "source": [
    "# result of y_train "
   ]
  },
  {
   "cell_type": "code",
   "execution_count": 15,
   "id": "experienced-traffic",
   "metadata": {},
   "outputs": [
    {
     "data": {
      "text/plain": [
       "array(['Yes', 'Yes', 'No', 'Yes', 'No', 'No', 'No'], dtype=object)"
      ]
     },
     "execution_count": 15,
     "metadata": {},
     "output_type": "execute_result"
    }
   ],
   "source": [
    "# y_train is the training part of the dependent variable assocaited to x_train here\n",
    "\n",
    "y_train"
   ]
  },
  {
   "cell_type": "markdown",
   "id": "favorite-minneapolis",
   "metadata": {},
   "source": [
    "# result of y_test"
   ]
  },
  {
   "cell_type": "code",
   "execution_count": 16,
   "id": "younger-suggestion",
   "metadata": {},
   "outputs": [
    {
     "data": {
      "text/plain": [
       "array(['Yes', 'Yes'], dtype=object)"
      ]
     },
     "execution_count": 16,
     "metadata": {},
     "output_type": "execute_result"
    }
   ],
   "source": [
    "# y_train is the test part of the dependent variable assocaited to x_train here\n",
    "\n",
    "y_test"
   ]
  }
 ],
 "metadata": {
  "kernelspec": {
   "display_name": "Python 3",
   "language": "python",
   "name": "python3"
  },
  "language_info": {
   "codemirror_mode": {
    "name": "ipython",
    "version": 3
   },
   "file_extension": ".py",
   "mimetype": "text/x-python",
   "name": "python",
   "nbconvert_exporter": "python",
   "pygments_lexer": "ipython3",
   "version": "3.9.1"
  }
 },
 "nbformat": 4,
 "nbformat_minor": 5
}
