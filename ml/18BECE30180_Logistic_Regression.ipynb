{
 "cells": [
  {
   "cell_type": "markdown",
   "id": "sufficient-rachel",
   "metadata": {},
   "source": [
    "#  importing the libraries"
   ]
  },
  {
   "cell_type": "code",
   "execution_count": 2,
   "id": "israeli-component",
   "metadata": {},
   "outputs": [],
   "source": [
    "# import the libraries \n",
    "\n",
    "import pandas as pd\n",
    "import numpy as np"
   ]
  },
  {
   "cell_type": "markdown",
   "id": "three-portfolio",
   "metadata": {},
   "source": [
    "#  importing the dataset"
   ]
  },
  {
   "cell_type": "code",
   "execution_count": 14,
   "id": "invisible-grace",
   "metadata": {},
   "outputs": [],
   "source": [
    "# importing the dataset \n",
    "\n",
    "data = pd.read_csv(\"D:\\\\bank_test.csv\")\n",
    "\n",
    "# visualizing the dataset\n",
    "\n"
   ]
  },
  {
   "cell_type": "markdown",
   "id": "affected-spain",
   "metadata": {},
   "source": [
    "#  dividing the dataset into independent variable"
   ]
  },
  {
   "cell_type": "code",
   "execution_count": 15,
   "id": "hindu-scoop",
   "metadata": {},
   "outputs": [
    {
     "data": {
      "text/plain": [
       "array([[50, 'management', 'married', ..., 205, 1.0, 'failure'],\n",
       "       [50, 'admin.', 'married', ..., -1, 0.0, 'unknown'],\n",
       "       [32, 'services', 'single', ..., -1, 0.0, 'unknown'],\n",
       "       ...,\n",
       "       [54, 'blue-collar', 'married', ..., -1, 0.0, 'unknown'],\n",
       "       [30, 'self-employed', 'single', ..., -1, 0.0, 'unknown'],\n",
       "       [42, 'blue-collar', 'married', ..., 103, 3.0, 'success']],\n",
       "      dtype=object)"
      ]
     },
     "execution_count": 15,
     "metadata": {},
     "output_type": "execute_result"
    }
   ],
   "source": [
    "# dividing the datset into independent variables i.e age \n",
    "\n",
    "x = data.iloc[:,:-1].values\n",
    "x"
   ]
  },
  {
   "cell_type": "markdown",
   "id": "northern-january",
   "metadata": {},
   "source": [
    "# dividing the dataset into dependent variable"
   ]
  },
  {
   "cell_type": "code",
   "execution_count": 16,
   "id": "monetary-morgan",
   "metadata": {},
   "outputs": [
    {
     "data": {
      "text/plain": [
       "array(['no', 'no', 'yes', ..., 'no', 'yes', 'yes'], dtype=object)"
      ]
     },
     "execution_count": 16,
     "metadata": {},
     "output_type": "execute_result"
    }
   ],
   "source": [
    "# dividing the dataset into dependent variable i.e. bought insurance\n",
    "\n",
    "y = data.iloc[:,-1].values\n",
    "y"
   ]
  },
  {
   "cell_type": "markdown",
   "id": "mineral-johnston",
   "metadata": {},
   "source": [
    "#  splitting the data into training and testing set"
   ]
  },
  {
   "cell_type": "code",
   "execution_count": 17,
   "id": "voluntary-research",
   "metadata": {},
   "outputs": [],
   "source": [
    "# splitting the data into testing and training sets\n",
    "\n",
    "from sklearn.model_selection import train_test_split\n",
    "\n",
    "x_train,x_test,y_train,y_test=train_test_split(x,y,test_size = 0.2 , random_state=3)"
   ]
  },
  {
   "cell_type": "markdown",
   "id": "indie-burns",
   "metadata": {},
   "source": [
    "#  visualizing the training set"
   ]
  },
  {
   "cell_type": "code",
   "execution_count": 18,
   "id": "steady-manner",
   "metadata": {},
   "outputs": [
    {
     "name": "stdout",
     "output_type": "stream",
     "text": [
      "[[31 'management' 'single' ... -1 0.0 'unknown']\n",
      " [27 'blue-collar' 'single' ... -1 0.0 'unknown']\n",
      " [42 'entrepreneur' 'single' ... -1 0.0 'unknown']\n",
      " ...\n",
      " [38 'management' 'single' ... -1 0.0 'unknown']\n",
      " [39 'admin.' 'single' ... -1 0.0 'unknown']\n",
      " [44 'services' 'married' ... -1 0.0 'unknown']]\n",
      "['yes' 'yes' 'no' 'yes' 'no' 'yes' 'no' 'no' 'yes' 'no' 'yes' 'yes' 'no'\n",
      " 'yes' 'no' 'no' 'no' 'no' 'yes' 'yes' 'no' 'no' 'no' 'no' 'yes' 'no'\n",
      " 'yes' 'yes' 'no' 'yes' 'yes' 'yes' 'no' 'yes' 'no' 'no' 'yes' 'no' 'yes'\n",
      " 'yes' 'yes' 'yes' 'no' 'yes' 'yes' 'no' 'no' 'no' 'no' 'yes' 'no' 'yes'\n",
      " 'yes' 'yes' 'no' 'yes' 'no' 'no' 'no' 'yes' 'yes' 'no' 'yes' 'yes' 'yes'\n",
      " 'yes' 'yes' 'yes' 'no' 'yes' 'yes' 'no' 'yes' 'no' 'yes' 'yes' 'yes'\n",
      " 'yes' 'no' 'yes' 'no' 'no' 'yes' 'yes' 'yes' 'no' 'yes' 'no' 'yes' 'no'\n",
      " 'no' 'no' 'no' 'yes' 'no' 'yes' 'no' 'yes' 'yes' 'yes' 'no' 'yes' 'no'\n",
      " 'yes' 'no' 'yes' 'yes' 'no' 'yes' 'yes' 'yes' 'yes' 'no' 'no' 'no' 'no'\n",
      " 'no' 'yes' 'no' 'no' 'no' 'yes' 'yes' 'no' 'yes' 'no' 'yes' 'yes' 'yes'\n",
      " 'no' 'yes' 'yes' 'yes' 'no' 'no' 'no' 'no' 'yes' 'no' 'yes' 'no' 'no'\n",
      " 'yes' 'no' 'yes' 'no' 'yes' 'no' 'yes' 'no' 'no' 'yes' 'yes' 'yes' 'no'\n",
      " 'yes' 'no' 'yes' 'yes' 'no' 'no' 'yes' 'no' 'no' 'yes' 'no' 'no' 'no'\n",
      " 'no' 'no' 'yes' 'yes' 'no' 'no' 'no' 'no' 'yes' 'no' 'no' 'no' 'no' 'no'\n",
      " 'no' 'no' 'yes' 'no' 'no' 'no' 'no' 'no' 'no' 'yes' 'yes' 'no' 'yes' 'no'\n",
      " 'no' 'yes' 'no' 'yes' 'yes' 'yes' 'no' 'yes' 'no' 'yes' 'no' 'yes' 'yes'\n",
      " 'no' 'yes' 'no' 'yes' 'no' 'yes' 'no' 'no' 'yes' 'no' 'no' 'yes' 'no'\n",
      " 'yes' 'no' 'no' 'yes' 'no' 'yes' 'no' 'no' 'no' 'yes' 'no' 'no' 'no' 'no'\n",
      " 'yes' 'yes' 'no' 'yes' 'no' 'yes' 'yes' 'no' 'yes' 'no' 'yes' 'no' 'no'\n",
      " 'yes' 'yes' 'no' 'no' 'no' 'no' 'no' 'yes' 'yes' 'yes' 'no' 'yes' 'no'\n",
      " 'no' 'no' 'no' 'yes' 'yes' 'no' 'no' 'yes' 'no' 'yes' 'yes' 'yes' 'yes'\n",
      " 'yes' 'no' 'no' 'no' 'yes' 'yes' 'no' 'no' 'yes' 'no' 'yes' 'no' 'yes'\n",
      " 'no' 'no' 'no' 'yes' 'yes' 'no' 'no' 'no' 'yes' 'no' 'no' 'no' 'no' 'yes'\n",
      " 'no' 'yes' 'yes' 'yes' 'no' 'no' 'no' 'no' 'yes' 'no' 'no' 'yes' 'no'\n",
      " 'yes' 'yes' 'yes' 'yes' 'yes' 'no' 'no' 'yes' 'no' 'no' 'no' 'no' 'no'\n",
      " 'yes' 'no' 'no' 'no' 'no' 'no' 'yes' 'no' 'no' 'yes' 'no' 'yes' 'yes'\n",
      " 'no' 'no' 'no' 'no' 'no' 'no' 'no' 'no' 'no' 'yes' 'no' 'no' 'yes' 'yes'\n",
      " 'no' 'yes' 'no' 'no' 'yes' 'no' 'yes' 'no' 'no' 'yes' 'no' 'yes' 'yes'\n",
      " 'no' 'yes' 'yes' 'no' 'yes' 'yes' 'yes' 'yes' 'no' 'no' 'no' 'no' 'yes'\n",
      " 'no' 'yes' 'no' 'yes' 'yes' 'yes' 'yes' 'no' 'yes' 'yes' 'no' 'no' 'yes'\n",
      " 'yes' 'no' 'yes' 'no' 'yes' 'yes' 'yes' 'no' 'no' 'no' 'yes' 'yes' 'yes'\n",
      " 'no' 'no' 'yes' 'yes' 'no' 'no' 'no' 'no' 'yes' 'yes' 'yes' 'yes' 'no'\n",
      " 'no' 'no' 'yes' 'no' 'no' 'no' 'yes' 'yes' 'yes' 'no' 'yes' 'no' 'no'\n",
      " 'yes' 'no' 'no' 'yes' 'no' 'no' 'yes' 'no' 'yes' 'yes' 'no' 'no' 'no'\n",
      " 'yes' 'no' 'yes' 'yes' 'yes' 'yes' 'no' 'no' 'yes' 'no' 'yes' 'no' 'yes'\n",
      " 'no' 'no' 'yes' 'yes' 'yes' 'no' 'no' 'no' 'no' 'no' 'yes' 'no' 'yes'\n",
      " 'yes' 'no' 'yes' 'yes' 'no' 'no' 'yes' 'yes' 'yes' 'no' 'yes' 'no' 'no'\n",
      " 'no' 'no' 'no' 'no' 'yes' 'no' 'no' 'no' 'yes' 'yes' 'no' 'yes' 'yes'\n",
      " 'yes' 'yes' 'yes' 'yes' 'no' 'no' 'no' 'yes' 'yes' 'yes' 'no' 'no' 'yes'\n",
      " 'yes' 'yes' 'yes' 'yes' 'yes' 'yes' 'no' 'no' 'yes' 'no' 'yes' 'no' 'no'\n",
      " 'no' 'yes' 'yes' 'no' 'no' 'yes' 'yes' 'no' 'no' 'yes' 'no' 'yes' 'yes'\n",
      " 'yes' 'yes' 'yes' 'no' 'no' 'yes' 'no' 'no' 'no' 'yes' 'no' 'no' 'no'\n",
      " 'yes' 'yes' 'yes' 'no' 'yes' 'no' 'no' 'no' 'yes' 'yes' 'no' 'no' 'yes'\n",
      " 'yes' 'no' 'yes' 'no' 'no' 'yes' 'yes' 'yes' 'yes' 'yes' 'yes' 'yes'\n",
      " 'yes' 'yes' 'yes' 'yes' 'no' 'no' 'yes' 'yes' 'yes' 'no' 'no' 'no' 'no'\n",
      " 'no' 'yes' 'yes' 'yes' 'yes' 'no' 'no' 'yes' 'no' 'no' 'no' 'yes' 'no'\n",
      " 'no' 'no' 'no' 'yes' 'no' 'yes' 'no' 'yes' 'no' 'no' 'yes' 'yes' 'no'\n",
      " 'no' 'no' 'no' 'no' 'yes' 'yes' 'no' 'no' 'yes' 'yes' 'no' 'yes' 'no'\n",
      " 'no' 'no' 'no' 'yes' 'no' 'no' 'no' 'no' 'no' 'no' 'no' 'no' 'no' 'yes'\n",
      " 'no' 'no' 'yes' 'yes' 'no' 'yes' 'no' 'no' 'yes' 'yes' 'no' 'no' 'yes'\n",
      " 'no' 'no' 'yes' 'no' 'no' 'no' 'yes' 'no' 'yes' 'no' 'no' 'yes' 'yes'\n",
      " 'yes' 'no' 'no' 'yes' 'yes' 'yes' 'yes' 'no' 'yes' 'no' 'no' 'no' 'yes'\n",
      " 'yes' 'no' 'no' 'yes' 'no' 'no' 'no' 'no' 'yes' 'yes' 'no' 'no' 'yes'\n",
      " 'no' 'yes' 'yes' 'no' 'no' 'no' 'no' 'yes' 'no' 'yes' 'no' 'no' 'yes'\n",
      " 'no' 'no' 'yes' 'no' 'no' 'no' 'yes' 'yes' 'yes' 'yes' 'no' 'yes' 'no'\n",
      " 'no' 'no' 'yes' 'no' 'yes' 'yes' 'no' 'no' 'no' 'no' 'no' 'no' 'yes'\n",
      " 'yes' 'yes' 'no' 'yes' 'yes' 'no' 'yes' 'no' 'no' 'yes' 'no' 'no' 'no'\n",
      " 'no' 'yes' 'yes' 'no' 'yes' 'yes' 'yes' 'no' 'no' 'no' 'yes' 'no' 'yes'\n",
      " 'yes' 'no' 'yes' 'no' 'yes' 'yes' 'no' 'no' 'no' 'yes' 'yes' 'no' 'yes'\n",
      " 'yes' 'yes' 'yes' 'yes' 'yes' 'yes' 'no' 'no' 'no' 'yes' 'no' 'no' 'yes'\n",
      " 'yes' 'yes' 'no' 'yes' 'no' 'yes' 'no' 'no' 'no' 'yes' 'no' 'yes' 'no'\n",
      " 'no' 'yes' 'no' 'no' 'no' 'no' 'yes' 'no' 'no' 'no' 'no' 'yes' 'yes' 'no'\n",
      " 'no' 'no' 'no' 'yes' 'yes' 'no' 'no' 'no' 'yes' 'no' 'no' 'no' 'no' 'yes'\n",
      " 'yes' 'no' 'no' 'no' 'no' 'yes' 'no' 'yes' 'yes' 'no' 'yes' 'yes' 'no'\n",
      " 'yes' 'yes' 'yes' 'no' 'yes' 'yes' 'no' 'no' 'yes' 'no' 'no' 'no' 'yes'\n",
      " 'yes' 'no' 'yes' 'yes' 'no' 'yes' 'no' 'no' 'no' 'no' 'no' 'no' 'no'\n",
      " 'yes' 'yes' 'yes' 'no' 'no' 'yes' 'no' 'yes' 'yes' 'yes' 'yes' 'no' 'no'\n",
      " 'no' 'yes' 'yes' 'yes' 'yes' 'yes' 'yes' 'no' 'no' 'no' 'no' 'no' 'no'\n",
      " 'no' 'yes' 'yes']\n"
     ]
    }
   ],
   "source": [
    "# printing the training set i.e. \n",
    "\n",
    "# x_train as independent training set\n",
    "\n",
    "print(x_train)\n",
    "\n",
    "# y_train as training set dependent on x_train\n",
    "\n",
    "print(y_train)"
   ]
  },
  {
   "cell_type": "markdown",
   "id": "tutorial-walker",
   "metadata": {},
   "source": [
    "#  visualizing the test set"
   ]
  },
  {
   "cell_type": "code",
   "execution_count": 19,
   "id": "dedicated-stupid",
   "metadata": {},
   "outputs": [
    {
     "name": "stdout",
     "output_type": "stream",
     "text": [
      "[[53 'housemaid' 'married' ... -1 0.0 'unknown']\n",
      " [33 'blue-collar' 'single' ... 80 2.0 'success']\n",
      " [34 'services' 'divorced' ... -1 0.0 'unknown']\n",
      " ...\n",
      " [41 'unemployed' 'married' ... 387 2.0 'failure']\n",
      " [73 'retired' 'married' ... 182 3.0 'success']\n",
      " [30 'self-employed' 'single' ... -1 0.0 'unknown']]\n",
      "['yes' 'yes' 'no' 'yes' 'yes' 'yes' 'no' 'no' 'yes' 'no' 'yes' 'yes' 'no'\n",
      " 'no' 'no' 'no' 'yes' 'yes' 'no' 'yes' 'yes' 'yes' 'yes' 'no' 'no' 'no'\n",
      " 'yes' 'no' 'no' 'no' 'yes' 'no' 'no' 'yes' 'no' 'yes' 'no' 'no' 'yes'\n",
      " 'no' 'yes' 'no' 'no' 'no' 'no' 'no' 'no' 'no' 'no' 'yes' 'no' 'yes' 'no'\n",
      " 'yes' 'no' 'no' 'no' 'no' 'yes' 'no' 'no' 'yes' 'no' 'no' 'yes' 'yes'\n",
      " 'no' 'no' 'yes' 'yes' 'no' 'yes' 'no' 'yes' 'yes' 'yes' 'no' 'yes' 'no'\n",
      " 'no' 'yes' 'yes' 'no' 'no' 'no' 'yes' 'no' 'yes' 'yes' 'yes' 'yes' 'no'\n",
      " 'yes' 'yes' 'no' 'no' 'no' 'yes' 'yes' 'yes' 'yes' 'no' 'yes' 'yes' 'no'\n",
      " 'no' 'yes' 'yes' 'yes' 'yes' 'no' 'yes' 'yes' 'no' 'yes' 'no' 'no' 'no'\n",
      " 'no' 'yes' 'no' 'yes' 'no' 'no' 'yes' 'no' 'yes' 'no' 'no' 'yes' 'no'\n",
      " 'yes' 'no' 'yes' 'no' 'no' 'no' 'no' 'no' 'no' 'no' 'no' 'no' 'yes' 'yes'\n",
      " 'no' 'no' 'yes' 'yes' 'no' 'no' 'no' 'no' 'yes' 'yes' 'no' 'no' 'no' 'no'\n",
      " 'yes' 'yes' 'yes' 'yes' 'yes' 'yes' 'yes' 'no' 'no' 'no' 'no' 'no' 'no'\n",
      " 'no' 'yes' 'yes' 'no' 'no' 'no' 'yes' 'no' 'yes' 'no' 'yes' 'yes' 'no'\n",
      " 'no' 'no' 'yes' 'yes' 'no' 'no' 'no' 'no' 'no' 'yes' 'no' 'no' 'no' 'yes'\n",
      " 'no' 'no' 'no' 'yes' 'yes' 'yes' 'yes' 'yes' 'no' 'no' 'no' 'yes' 'no'\n",
      " 'no' 'yes' 'yes' 'yes' 'no' 'yes' 'no' 'no' 'no' 'yes' 'yes' 'yes']\n"
     ]
    }
   ],
   "source": [
    "# printing the training set i.e. \n",
    "\n",
    "# x_test as independent testing set\n",
    "\n",
    "print(x_test)\n",
    "\n",
    "# y_test as testing set dependent on x_test\n",
    "\n",
    "print(y_test)"
   ]
  },
  {
   "cell_type": "markdown",
   "id": "abroad-equilibrium",
   "metadata": {},
   "source": [
    "#  Train the model"
   ]
  },
  {
   "cell_type": "code",
   "execution_count": 12,
   "id": "classical-recipe",
   "metadata": {},
   "outputs": [
    {
     "ename": "ValueError",
     "evalue": "could not convert string to float: 'management'",
     "output_type": "error",
     "traceback": [
      "\u001b[1;31m---------------------------------------------------------------------------\u001b[0m",
      "\u001b[1;31mValueError\u001b[0m                                Traceback (most recent call last)",
      "\u001b[1;32m<ipython-input-12-4cb232da7aa2>\u001b[0m in \u001b[0;36m<module>\u001b[1;34m\u001b[0m\n\u001b[0;32m      4\u001b[0m \u001b[1;33m\u001b[0m\u001b[0m\n\u001b[0;32m      5\u001b[0m \u001b[0mlogReg\u001b[0m \u001b[1;33m=\u001b[0m \u001b[0mLogisticRegression\u001b[0m\u001b[1;33m(\u001b[0m\u001b[1;33m)\u001b[0m\u001b[1;33m\u001b[0m\u001b[1;33m\u001b[0m\u001b[0m\n\u001b[1;32m----> 6\u001b[1;33m \u001b[0mlogReg\u001b[0m\u001b[1;33m.\u001b[0m\u001b[0mfit\u001b[0m\u001b[1;33m(\u001b[0m\u001b[0mx_train\u001b[0m\u001b[1;33m,\u001b[0m\u001b[0my_train\u001b[0m\u001b[1;33m)\u001b[0m\u001b[1;33m\u001b[0m\u001b[1;33m\u001b[0m\u001b[0m\n\u001b[0m",
      "\u001b[1;32m~\\AppData\\Roaming\\Python\\Python39\\site-packages\\sklearn\\linear_model\\_logistic.py\u001b[0m in \u001b[0;36mfit\u001b[1;34m(self, X, y, sample_weight)\u001b[0m\n\u001b[0;32m   1342\u001b[0m             \u001b[0m_dtype\u001b[0m \u001b[1;33m=\u001b[0m \u001b[1;33m[\u001b[0m\u001b[0mnp\u001b[0m\u001b[1;33m.\u001b[0m\u001b[0mfloat64\u001b[0m\u001b[1;33m,\u001b[0m \u001b[0mnp\u001b[0m\u001b[1;33m.\u001b[0m\u001b[0mfloat32\u001b[0m\u001b[1;33m]\u001b[0m\u001b[1;33m\u001b[0m\u001b[1;33m\u001b[0m\u001b[0m\n\u001b[0;32m   1343\u001b[0m \u001b[1;33m\u001b[0m\u001b[0m\n\u001b[1;32m-> 1344\u001b[1;33m         X, y = self._validate_data(X, y, accept_sparse='csr', dtype=_dtype,\n\u001b[0m\u001b[0;32m   1345\u001b[0m                                    \u001b[0morder\u001b[0m\u001b[1;33m=\u001b[0m\u001b[1;34m\"C\"\u001b[0m\u001b[1;33m,\u001b[0m\u001b[1;33m\u001b[0m\u001b[1;33m\u001b[0m\u001b[0m\n\u001b[0;32m   1346\u001b[0m                                    accept_large_sparse=solver != 'liblinear')\n",
      "\u001b[1;32m~\\AppData\\Roaming\\Python\\Python39\\site-packages\\sklearn\\base.py\u001b[0m in \u001b[0;36m_validate_data\u001b[1;34m(self, X, y, reset, validate_separately, **check_params)\u001b[0m\n\u001b[0;32m    431\u001b[0m                 \u001b[0my\u001b[0m \u001b[1;33m=\u001b[0m \u001b[0mcheck_array\u001b[0m\u001b[1;33m(\u001b[0m\u001b[0my\u001b[0m\u001b[1;33m,\u001b[0m \u001b[1;33m**\u001b[0m\u001b[0mcheck_y_params\u001b[0m\u001b[1;33m)\u001b[0m\u001b[1;33m\u001b[0m\u001b[1;33m\u001b[0m\u001b[0m\n\u001b[0;32m    432\u001b[0m             \u001b[1;32melse\u001b[0m\u001b[1;33m:\u001b[0m\u001b[1;33m\u001b[0m\u001b[1;33m\u001b[0m\u001b[0m\n\u001b[1;32m--> 433\u001b[1;33m                 \u001b[0mX\u001b[0m\u001b[1;33m,\u001b[0m \u001b[0my\u001b[0m \u001b[1;33m=\u001b[0m \u001b[0mcheck_X_y\u001b[0m\u001b[1;33m(\u001b[0m\u001b[0mX\u001b[0m\u001b[1;33m,\u001b[0m \u001b[0my\u001b[0m\u001b[1;33m,\u001b[0m \u001b[1;33m**\u001b[0m\u001b[0mcheck_params\u001b[0m\u001b[1;33m)\u001b[0m\u001b[1;33m\u001b[0m\u001b[1;33m\u001b[0m\u001b[0m\n\u001b[0m\u001b[0;32m    434\u001b[0m             \u001b[0mout\u001b[0m \u001b[1;33m=\u001b[0m \u001b[0mX\u001b[0m\u001b[1;33m,\u001b[0m \u001b[0my\u001b[0m\u001b[1;33m\u001b[0m\u001b[1;33m\u001b[0m\u001b[0m\n\u001b[0;32m    435\u001b[0m \u001b[1;33m\u001b[0m\u001b[0m\n",
      "\u001b[1;32m~\\AppData\\Roaming\\Python\\Python39\\site-packages\\sklearn\\utils\\validation.py\u001b[0m in \u001b[0;36minner_f\u001b[1;34m(*args, **kwargs)\u001b[0m\n\u001b[0;32m     61\u001b[0m             \u001b[0mextra_args\u001b[0m \u001b[1;33m=\u001b[0m \u001b[0mlen\u001b[0m\u001b[1;33m(\u001b[0m\u001b[0margs\u001b[0m\u001b[1;33m)\u001b[0m \u001b[1;33m-\u001b[0m \u001b[0mlen\u001b[0m\u001b[1;33m(\u001b[0m\u001b[0mall_args\u001b[0m\u001b[1;33m)\u001b[0m\u001b[1;33m\u001b[0m\u001b[1;33m\u001b[0m\u001b[0m\n\u001b[0;32m     62\u001b[0m             \u001b[1;32mif\u001b[0m \u001b[0mextra_args\u001b[0m \u001b[1;33m<=\u001b[0m \u001b[1;36m0\u001b[0m\u001b[1;33m:\u001b[0m\u001b[1;33m\u001b[0m\u001b[1;33m\u001b[0m\u001b[0m\n\u001b[1;32m---> 63\u001b[1;33m                 \u001b[1;32mreturn\u001b[0m \u001b[0mf\u001b[0m\u001b[1;33m(\u001b[0m\u001b[1;33m*\u001b[0m\u001b[0margs\u001b[0m\u001b[1;33m,\u001b[0m \u001b[1;33m**\u001b[0m\u001b[0mkwargs\u001b[0m\u001b[1;33m)\u001b[0m\u001b[1;33m\u001b[0m\u001b[1;33m\u001b[0m\u001b[0m\n\u001b[0m\u001b[0;32m     64\u001b[0m \u001b[1;33m\u001b[0m\u001b[0m\n\u001b[0;32m     65\u001b[0m             \u001b[1;31m# extra_args > 0\u001b[0m\u001b[1;33m\u001b[0m\u001b[1;33m\u001b[0m\u001b[1;33m\u001b[0m\u001b[0m\n",
      "\u001b[1;32m~\\AppData\\Roaming\\Python\\Python39\\site-packages\\sklearn\\utils\\validation.py\u001b[0m in \u001b[0;36mcheck_X_y\u001b[1;34m(X, y, accept_sparse, accept_large_sparse, dtype, order, copy, force_all_finite, ensure_2d, allow_nd, multi_output, ensure_min_samples, ensure_min_features, y_numeric, estimator)\u001b[0m\n\u001b[0;32m    812\u001b[0m         \u001b[1;32mraise\u001b[0m \u001b[0mValueError\u001b[0m\u001b[1;33m(\u001b[0m\u001b[1;34m\"y cannot be None\"\u001b[0m\u001b[1;33m)\u001b[0m\u001b[1;33m\u001b[0m\u001b[1;33m\u001b[0m\u001b[0m\n\u001b[0;32m    813\u001b[0m \u001b[1;33m\u001b[0m\u001b[0m\n\u001b[1;32m--> 814\u001b[1;33m     X = check_array(X, accept_sparse=accept_sparse,\n\u001b[0m\u001b[0;32m    815\u001b[0m                     \u001b[0maccept_large_sparse\u001b[0m\u001b[1;33m=\u001b[0m\u001b[0maccept_large_sparse\u001b[0m\u001b[1;33m,\u001b[0m\u001b[1;33m\u001b[0m\u001b[1;33m\u001b[0m\u001b[0m\n\u001b[0;32m    816\u001b[0m                     \u001b[0mdtype\u001b[0m\u001b[1;33m=\u001b[0m\u001b[0mdtype\u001b[0m\u001b[1;33m,\u001b[0m \u001b[0morder\u001b[0m\u001b[1;33m=\u001b[0m\u001b[0morder\u001b[0m\u001b[1;33m,\u001b[0m \u001b[0mcopy\u001b[0m\u001b[1;33m=\u001b[0m\u001b[0mcopy\u001b[0m\u001b[1;33m,\u001b[0m\u001b[1;33m\u001b[0m\u001b[1;33m\u001b[0m\u001b[0m\n",
      "\u001b[1;32m~\\AppData\\Roaming\\Python\\Python39\\site-packages\\sklearn\\utils\\validation.py\u001b[0m in \u001b[0;36minner_f\u001b[1;34m(*args, **kwargs)\u001b[0m\n\u001b[0;32m     61\u001b[0m             \u001b[0mextra_args\u001b[0m \u001b[1;33m=\u001b[0m \u001b[0mlen\u001b[0m\u001b[1;33m(\u001b[0m\u001b[0margs\u001b[0m\u001b[1;33m)\u001b[0m \u001b[1;33m-\u001b[0m \u001b[0mlen\u001b[0m\u001b[1;33m(\u001b[0m\u001b[0mall_args\u001b[0m\u001b[1;33m)\u001b[0m\u001b[1;33m\u001b[0m\u001b[1;33m\u001b[0m\u001b[0m\n\u001b[0;32m     62\u001b[0m             \u001b[1;32mif\u001b[0m \u001b[0mextra_args\u001b[0m \u001b[1;33m<=\u001b[0m \u001b[1;36m0\u001b[0m\u001b[1;33m:\u001b[0m\u001b[1;33m\u001b[0m\u001b[1;33m\u001b[0m\u001b[0m\n\u001b[1;32m---> 63\u001b[1;33m                 \u001b[1;32mreturn\u001b[0m \u001b[0mf\u001b[0m\u001b[1;33m(\u001b[0m\u001b[1;33m*\u001b[0m\u001b[0margs\u001b[0m\u001b[1;33m,\u001b[0m \u001b[1;33m**\u001b[0m\u001b[0mkwargs\u001b[0m\u001b[1;33m)\u001b[0m\u001b[1;33m\u001b[0m\u001b[1;33m\u001b[0m\u001b[0m\n\u001b[0m\u001b[0;32m     64\u001b[0m \u001b[1;33m\u001b[0m\u001b[0m\n\u001b[0;32m     65\u001b[0m             \u001b[1;31m# extra_args > 0\u001b[0m\u001b[1;33m\u001b[0m\u001b[1;33m\u001b[0m\u001b[1;33m\u001b[0m\u001b[0m\n",
      "\u001b[1;32m~\\AppData\\Roaming\\Python\\Python39\\site-packages\\sklearn\\utils\\validation.py\u001b[0m in \u001b[0;36mcheck_array\u001b[1;34m(array, accept_sparse, accept_large_sparse, dtype, order, copy, force_all_finite, ensure_2d, allow_nd, ensure_min_samples, ensure_min_features, estimator)\u001b[0m\n\u001b[0;32m    614\u001b[0m                     \u001b[0marray\u001b[0m \u001b[1;33m=\u001b[0m \u001b[0marray\u001b[0m\u001b[1;33m.\u001b[0m\u001b[0mastype\u001b[0m\u001b[1;33m(\u001b[0m\u001b[0mdtype\u001b[0m\u001b[1;33m,\u001b[0m \u001b[0mcasting\u001b[0m\u001b[1;33m=\u001b[0m\u001b[1;34m\"unsafe\"\u001b[0m\u001b[1;33m,\u001b[0m \u001b[0mcopy\u001b[0m\u001b[1;33m=\u001b[0m\u001b[1;32mFalse\u001b[0m\u001b[1;33m)\u001b[0m\u001b[1;33m\u001b[0m\u001b[1;33m\u001b[0m\u001b[0m\n\u001b[0;32m    615\u001b[0m                 \u001b[1;32melse\u001b[0m\u001b[1;33m:\u001b[0m\u001b[1;33m\u001b[0m\u001b[1;33m\u001b[0m\u001b[0m\n\u001b[1;32m--> 616\u001b[1;33m                     \u001b[0marray\u001b[0m \u001b[1;33m=\u001b[0m \u001b[0mnp\u001b[0m\u001b[1;33m.\u001b[0m\u001b[0masarray\u001b[0m\u001b[1;33m(\u001b[0m\u001b[0marray\u001b[0m\u001b[1;33m,\u001b[0m \u001b[0morder\u001b[0m\u001b[1;33m=\u001b[0m\u001b[0morder\u001b[0m\u001b[1;33m,\u001b[0m \u001b[0mdtype\u001b[0m\u001b[1;33m=\u001b[0m\u001b[0mdtype\u001b[0m\u001b[1;33m)\u001b[0m\u001b[1;33m\u001b[0m\u001b[1;33m\u001b[0m\u001b[0m\n\u001b[0m\u001b[0;32m    617\u001b[0m             \u001b[1;32mexcept\u001b[0m \u001b[0mComplexWarning\u001b[0m \u001b[1;32mas\u001b[0m \u001b[0mcomplex_warning\u001b[0m\u001b[1;33m:\u001b[0m\u001b[1;33m\u001b[0m\u001b[1;33m\u001b[0m\u001b[0m\n\u001b[0;32m    618\u001b[0m                 raise ValueError(\"Complex data not supported\\n\"\n",
      "\u001b[1;32m~\\AppData\\Roaming\\Python\\Python39\\site-packages\\numpy\\core\\_asarray.py\u001b[0m in \u001b[0;36masarray\u001b[1;34m(a, dtype, order)\u001b[0m\n\u001b[0;32m     81\u001b[0m \u001b[1;33m\u001b[0m\u001b[0m\n\u001b[0;32m     82\u001b[0m     \"\"\"\n\u001b[1;32m---> 83\u001b[1;33m     \u001b[1;32mreturn\u001b[0m \u001b[0marray\u001b[0m\u001b[1;33m(\u001b[0m\u001b[0ma\u001b[0m\u001b[1;33m,\u001b[0m \u001b[0mdtype\u001b[0m\u001b[1;33m,\u001b[0m \u001b[0mcopy\u001b[0m\u001b[1;33m=\u001b[0m\u001b[1;32mFalse\u001b[0m\u001b[1;33m,\u001b[0m \u001b[0morder\u001b[0m\u001b[1;33m=\u001b[0m\u001b[0morder\u001b[0m\u001b[1;33m)\u001b[0m\u001b[1;33m\u001b[0m\u001b[1;33m\u001b[0m\u001b[0m\n\u001b[0m\u001b[0;32m     84\u001b[0m \u001b[1;33m\u001b[0m\u001b[0m\n\u001b[0;32m     85\u001b[0m \u001b[1;33m\u001b[0m\u001b[0m\n",
      "\u001b[1;31mValueError\u001b[0m: could not convert string to float: 'management'"
     ]
    }
   ],
   "source": [
    "# training the model using logistic regression\n",
    "\n",
    "from sklearn.linear_model import LogisticRegression\n",
    "\n",
    "logReg = LogisticRegression()\n",
    "logReg.fit(x_train,y_train)"
   ]
  },
  {
   "cell_type": "markdown",
   "id": "applicable-supply",
   "metadata": {},
   "source": [
    "#  predict with test dataset"
   ]
  },
  {
   "cell_type": "code",
   "execution_count": null,
   "id": "ongoing-twins",
   "metadata": {},
   "outputs": [],
   "source": [
    "# predicting the result of test dataset\n",
    "\n",
    "y_pred = logReg.predict(x_test)\n",
    "y_pred"
   ]
  },
  {
   "cell_type": "markdown",
   "id": "interracial-paragraph",
   "metadata": {},
   "source": [
    "# Evaluating the model "
   ]
  },
  {
   "cell_type": "code",
   "execution_count": 11,
   "id": "powered-numbers",
   "metadata": {},
   "outputs": [
    {
     "ename": "NameError",
     "evalue": "name 'y_pred' is not defined",
     "output_type": "error",
     "traceback": [
      "\u001b[1;31m---------------------------------------------------------------------------\u001b[0m",
      "\u001b[1;31mNameError\u001b[0m                                 Traceback (most recent call last)",
      "\u001b[1;32m<ipython-input-11-06cbe1b13f67>\u001b[0m in \u001b[0;36m<module>\u001b[1;34m\u001b[0m\n\u001b[0;32m      5\u001b[0m \u001b[1;31m# confusion matrix\u001b[0m\u001b[1;33m\u001b[0m\u001b[1;33m\u001b[0m\u001b[1;33m\u001b[0m\u001b[0m\n\u001b[0;32m      6\u001b[0m \u001b[1;33m\u001b[0m\u001b[0m\n\u001b[1;32m----> 7\u001b[1;33m \u001b[0mcm\u001b[0m \u001b[1;33m=\u001b[0m \u001b[0mconfusion_matrix\u001b[0m\u001b[1;33m(\u001b[0m\u001b[0my_test\u001b[0m\u001b[1;33m,\u001b[0m\u001b[0my_pred\u001b[0m\u001b[1;33m)\u001b[0m\u001b[1;33m\u001b[0m\u001b[1;33m\u001b[0m\u001b[0m\n\u001b[0m\u001b[0;32m      8\u001b[0m \u001b[0mprint\u001b[0m\u001b[1;33m(\u001b[0m\u001b[1;34m\"Confusion Matrix : \"\u001b[0m\u001b[1;33m)\u001b[0m\u001b[1;33m\u001b[0m\u001b[1;33m\u001b[0m\u001b[0m\n\u001b[0;32m      9\u001b[0m \u001b[0mprint\u001b[0m\u001b[1;33m(\u001b[0m\u001b[0mcm\u001b[0m\u001b[1;33m)\u001b[0m\u001b[1;33m\u001b[0m\u001b[1;33m\u001b[0m\u001b[0m\n",
      "\u001b[1;31mNameError\u001b[0m: name 'y_pred' is not defined"
     ]
    }
   ],
   "source": [
    "# Evalauting the model\n",
    "\n",
    "from sklearn.metrics import confusion_matrix,accuracy_score\n",
    "\n",
    "# confusion matrix\n",
    "\n",
    "cm = confusion_matrix(y_test,y_pred)\n",
    "print(\"Confusion Matrix : \")\n",
    "print(cm)\n",
    "\n",
    "# accuracy of the model\n",
    "\n",
    "print(\"Accuracy Score : \" , accuracy_score(y_test,y_pred))"
   ]
  },
  {
   "cell_type": "markdown",
   "id": "close-spectrum",
   "metadata": {},
   "source": [
    "#  classification graph for trained data"
   ]
  },
  {
   "cell_type": "code",
   "execution_count": 27,
   "id": "economic-puppy",
   "metadata": {},
   "outputs": [
    {
     "data": {
      "image/png": "[encoded data removed]",
      "text/plain": [
       "<Figure size 432x288 with 1 Axes>"
      ]
     },
     "metadata": {
      "needs_background": "light"
     },
     "output_type": "display_data"
    }
   ],
   "source": [
    "# classifying the trained data on graph \n",
    "\n",
    "import matplotlib.pyplot as plt\n",
    "\n",
    "plt.scatter(x_train,y_train,color='black')\n",
    "plt.show()"
   ]
  },
  {
   "cell_type": "markdown",
   "id": "afraid-vector",
   "metadata": {},
   "source": [
    "# classification graph for test data"
   ]
  },
  {
   "cell_type": "code",
   "execution_count": 26,
   "id": "national-enclosure",
   "metadata": {},
   "outputs": [
    {
     "data": {
      "image/png": "[encoded data removed]",
      "text/plain": [
       "<Figure size 432x288 with 1 Axes>"
      ]
     },
     "metadata": {
      "needs_background": "light"
     },
     "output_type": "display_data"
    }
   ],
   "source": [
    "# classifying the trained data on graph \n",
    "\n",
    "plt.scatter(x_test,y_test,color='blue')\n",
    "plt.show()"
   ]
  }
 ],
 "metadata": {
  "kernelspec": {
   "display_name": "Python 3",
   "language": "python",
   "name": "python3"
  },
  "language_info": {
   "codemirror_mode": {
    "name": "ipython",
    "version": 3
   },
   "file_extension": ".py",
   "mimetype": "text/x-python",
   "name": "python",
   "nbconvert_exporter": "python",
   "pygments_lexer": "ipython3",
   "version": "3.9.1"
  }
 },
 "nbformat": 4,
 "nbformat_minor": 5
}
